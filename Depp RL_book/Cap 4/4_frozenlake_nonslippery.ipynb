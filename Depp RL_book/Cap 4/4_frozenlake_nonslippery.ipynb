{
  "nbformat": 4,
  "nbformat_minor": 0,
  "metadata": {
    "colab": {
      "name": "4_frozenlake_nonslippery.ipynb",
      "provenance": []
    },
    "kernelspec": {
      "name": "python3",
      "display_name": "Python 3"
    },
    "accelerator": "GPU"
  },
  "cells": [
    {
      "cell_type": "code",
      "metadata": {
        "id": "jtao6Kt8VyPl",
        "colab_type": "code",
        "colab": {
          "base_uri": "https://localhost:8080/",
          "height": 190
        },
        "outputId": "2170c3fc-3d8b-4a23-c40f-584aa9a424c2"
      },
      "source": [
        "! pip install tensorboardX"
      ],
      "execution_count": 1,
      "outputs": [
        {
          "output_type": "stream",
          "text": [
            "Collecting tensorboardX\n",
            "\u001b[?25l  Downloading https://files.pythonhosted.org/packages/af/0c/4f41bcd45db376e6fe5c619c01100e9b7531c55791b7244815bac6eac32c/tensorboardX-2.1-py2.py3-none-any.whl (308kB)\n",
            "\r\u001b[K     |█                               | 10kB 9.4MB/s eta 0:00:01\r\u001b[K     |██▏                             | 20kB 3.3MB/s eta 0:00:01\r\u001b[K     |███▏                            | 30kB 4.4MB/s eta 0:00:01\r\u001b[K     |████▎                           | 40kB 4.7MB/s eta 0:00:01\r\u001b[K     |█████▎                          | 51kB 3.9MB/s eta 0:00:01\r\u001b[K     |██████▍                         | 61kB 4.3MB/s eta 0:00:01\r\u001b[K     |███████▍                        | 71kB 4.8MB/s eta 0:00:01\r\u001b[K     |████████▌                       | 81kB 5.1MB/s eta 0:00:01\r\u001b[K     |█████████▌                      | 92kB 5.5MB/s eta 0:00:01\r\u001b[K     |██████████▋                     | 102kB 5.3MB/s eta 0:00:01\r\u001b[K     |███████████▊                    | 112kB 5.3MB/s eta 0:00:01\r\u001b[K     |████████████▊                   | 122kB 5.3MB/s eta 0:00:01\r\u001b[K     |█████████████▉                  | 133kB 5.3MB/s eta 0:00:01\r\u001b[K     |██████████████▉                 | 143kB 5.3MB/s eta 0:00:01\r\u001b[K     |████████████████                | 153kB 5.3MB/s eta 0:00:01\r\u001b[K     |█████████████████               | 163kB 5.3MB/s eta 0:00:01\r\u001b[K     |██████████████████              | 174kB 5.3MB/s eta 0:00:01\r\u001b[K     |███████████████████             | 184kB 5.3MB/s eta 0:00:01\r\u001b[K     |████████████████████▏           | 194kB 5.3MB/s eta 0:00:01\r\u001b[K     |█████████████████████▎          | 204kB 5.3MB/s eta 0:00:01\r\u001b[K     |██████████████████████▎         | 215kB 5.3MB/s eta 0:00:01\r\u001b[K     |███████████████████████▍        | 225kB 5.3MB/s eta 0:00:01\r\u001b[K     |████████████████████████▍       | 235kB 5.3MB/s eta 0:00:01\r\u001b[K     |█████████████████████████▌      | 245kB 5.3MB/s eta 0:00:01\r\u001b[K     |██████████████████████████▌     | 256kB 5.3MB/s eta 0:00:01\r\u001b[K     |███████████████████████████▋    | 266kB 5.3MB/s eta 0:00:01\r\u001b[K     |████████████████████████████▋   | 276kB 5.3MB/s eta 0:00:01\r\u001b[K     |█████████████████████████████▊  | 286kB 5.3MB/s eta 0:00:01\r\u001b[K     |██████████████████████████████▊ | 296kB 5.3MB/s eta 0:00:01\r\u001b[K     |███████████████████████████████▉| 307kB 5.3MB/s eta 0:00:01\r\u001b[K     |████████████████████████████████| 317kB 5.3MB/s \n",
            "\u001b[?25hRequirement already satisfied: protobuf>=3.8.0 in /usr/local/lib/python3.6/dist-packages (from tensorboardX) (3.12.4)\n",
            "Requirement already satisfied: six in /usr/local/lib/python3.6/dist-packages (from tensorboardX) (1.15.0)\n",
            "Requirement already satisfied: numpy in /usr/local/lib/python3.6/dist-packages (from tensorboardX) (1.18.5)\n",
            "Requirement already satisfied: setuptools in /usr/local/lib/python3.6/dist-packages (from protobuf>=3.8.0->tensorboardX) (50.3.0)\n",
            "Installing collected packages: tensorboardX\n",
            "Successfully installed tensorboardX-2.1\n"
          ],
          "name": "stdout"
        }
      ]
    },
    {
      "cell_type": "code",
      "metadata": {
        "id": "ZyE3zEVwWIGf",
        "colab_type": "code",
        "colab": {}
      },
      "source": [
        "import random\n",
        "import gym\n",
        "import gym.spaces\n",
        "import gym.wrappers\n",
        "import gym.envs.toy_text.frozen_lake\n",
        "from collections import namedtuple\n",
        "import numpy as np\n",
        "from tensorboardX import SummaryWriter\n",
        "\n",
        "import torch\n",
        "import torch.nn as nn\n",
        "import torch.optim as optim"
      ],
      "execution_count": 2,
      "outputs": []
    },
    {
      "cell_type": "code",
      "metadata": {
        "id": "QINfTMi8WIgo",
        "colab_type": "code",
        "colab": {}
      },
      "source": [
        "HIDDEN_SIZE = 128\n",
        "BATCH_SIZE = 100\n",
        "PERCENTILE = 30\n",
        "GAMMA = 0.9"
      ],
      "execution_count": 3,
      "outputs": []
    },
    {
      "cell_type": "code",
      "metadata": {
        "id": "EgcpzxvZWKEG",
        "colab_type": "code",
        "colab": {}
      },
      "source": [
        "class DiscreteOneHotWrapper(gym.ObservationWrapper):\n",
        "    def __init__(self, env):\n",
        "        super(DiscreteOneHotWrapper, self).__init__(env)\n",
        "        assert isinstance(env.observation_space, gym.spaces.Discrete)\n",
        "        self.observation_space = gym.spaces.Box(0.0, 1.0, (env.observation_space.n, ), dtype=np.float32)\n",
        "\n",
        "    def observation(self, observation):\n",
        "        res = np.copy(self.observation_space.low)\n",
        "        res[observation] = 1.0\n",
        "        return res"
      ],
      "execution_count": 4,
      "outputs": []
    },
    {
      "cell_type": "code",
      "metadata": {
        "id": "LYBDjLBmWLtL",
        "colab_type": "code",
        "colab": {}
      },
      "source": [
        "class Net(nn.Module):\n",
        "    def __init__(self, obs_size, hidden_size, n_actions):\n",
        "        super(Net, self).__init__()\n",
        "        self.net = nn.Sequential(\n",
        "            nn.Linear(obs_size, hidden_size),\n",
        "            nn.ReLU(),\n",
        "            nn.Linear(hidden_size, n_actions)\n",
        "        )\n",
        "\n",
        "    def forward(self, x):\n",
        "        return self.net(x)\n",
        "\n",
        "Episode = namedtuple('Episode', field_names=['reward', 'steps'])\n",
        "EpisodeStep = namedtuple('EpisodeStep', field_names=['observation', 'action'])"
      ],
      "execution_count": 5,
      "outputs": []
    },
    {
      "cell_type": "code",
      "metadata": {
        "id": "bvmJnAARWN_a",
        "colab_type": "code",
        "colab": {}
      },
      "source": [
        "def iterate_batches(env, net, batch_size):\n",
        "    batch = []\n",
        "    episode_reward = 0.0\n",
        "    episode_steps = []\n",
        "    obs = env.reset()\n",
        "    sm = nn.Softmax(dim=1)\n",
        "    while True:\n",
        "        obs_v = torch.FloatTensor([obs])\n",
        "        act_probs_v = sm(net(obs_v))\n",
        "        act_probs = act_probs_v.data.numpy()[0]\n",
        "        action = np.random.choice(len(act_probs), p=act_probs)\n",
        "        next_obs, reward, is_done, _ = env.step(action)\n",
        "        episode_reward += reward\n",
        "        episode_steps.append(EpisodeStep(observation=obs, action=action))\n",
        "        if is_done:\n",
        "            batch.append(Episode(reward=episode_reward, steps=episode_steps))\n",
        "            episode_reward = 0.0\n",
        "            episode_steps = []\n",
        "            next_obs = env.reset()\n",
        "            if len(batch) == batch_size:\n",
        "                yield batch\n",
        "                batch = []\n",
        "        obs = next_obs"
      ],
      "execution_count": 6,
      "outputs": []
    },
    {
      "cell_type": "code",
      "metadata": {
        "id": "0s0-nFVEWP4t",
        "colab_type": "code",
        "colab": {}
      },
      "source": [
        "def filter_batch(batch, percentile):\n",
        "    disc_rewards = list(map(lambda s: s.reward * (GAMMA ** len(s.steps)), batch))\n",
        "    reward_bound = np.percentile(disc_rewards, percentile)\n",
        "\n",
        "    train_obs = []\n",
        "    train_act = []\n",
        "    elite_batch = []\n",
        "    for example, discounted_reward in zip(batch, disc_rewards):\n",
        "        if discounted_reward > reward_bound:\n",
        "            train_obs.extend(map(lambda step: step.observation, example.steps))\n",
        "            train_act.extend(map(lambda step: step.action, example.steps))\n",
        "            elite_batch.append(example)\n",
        "\n",
        "    return elite_batch, train_obs, train_act, reward_bound"
      ],
      "execution_count": 7,
      "outputs": []
    },
    {
      "cell_type": "code",
      "metadata": {
        "id": "CmI3TjdMWRaL",
        "colab_type": "code",
        "colab": {}
      },
      "source": [
        "random.seed(12345)\n",
        "env = gym.envs.toy_text.frozen_lake.FrozenLakeEnv(\n",
        "    is_slippery=False)\n",
        "env.spec = gym.spec(\"FrozenLake-v0\")\n",
        "env = gym.wrappers.TimeLimit(env, max_episode_steps=100)\n",
        "env = DiscreteOneHotWrapper(env)\n",
        "# env = gym.wrappers.Monitor(env, directory=\"mon\", force=True)\n",
        "obs_size = env.observation_space.shape[0]\n",
        "n_actions = env.action_space.n\n",
        "\n",
        "net = Net(obs_size, HIDDEN_SIZE, n_actions)\n",
        "objective = nn.CrossEntropyLoss()\n",
        "optimizer = optim.Adam(params=net.parameters(), lr=0.001)\n",
        "writer = SummaryWriter(comment=\"-frozenlake-nonslippery\")"
      ],
      "execution_count": 8,
      "outputs": []
    },
    {
      "cell_type": "code",
      "metadata": {
        "id": "rYKlbLZ_WTtI",
        "colab_type": "code",
        "colab": {
          "base_uri": "https://localhost:8080/",
          "height": 1000
        },
        "outputId": "44593016-ae75-4c82-d5ee-96ed54c2f8e2"
      },
      "source": [
        "full_batch = []\n",
        "for iter_no, batch in enumerate(iterate_batches(env, net, BATCH_SIZE)):\n",
        "    reward_mean = float(np.mean(list(map(lambda s: s.reward, batch))))\n",
        "    full_batch, obs, acts, reward_bound = filter_batch(full_batch + batch, PERCENTILE)\n",
        "    if not full_batch:\n",
        "        continue\n",
        "    obs_v = torch.FloatTensor(obs)\n",
        "    acts_v = torch.LongTensor(acts)\n",
        "    full_batch = full_batch[-500:]\n",
        "\n",
        "    optimizer.zero_grad()\n",
        "    action_scores_v = net(obs_v)\n",
        "    loss_v = objective(action_scores_v, acts_v)\n",
        "    loss_v.backward()\n",
        "    optimizer.step()\n",
        "    print(\"%d: loss=%.3f, reward_mean=%.3f, reward_bound=%.3f, batch=%d\" % (\n",
        "        iter_no, loss_v.item(), reward_mean, reward_bound, len(full_batch)))\n",
        "    writer.add_scalar(\"loss\", loss_v.item(), iter_no)\n",
        "    writer.add_scalar(\"reward_mean\", reward_mean, iter_no)\n",
        "    writer.add_scalar(\"reward_bound\", reward_bound, iter_no)\n",
        "    if reward_mean > 0.8:\n",
        "        print(\"Solved!\")\n",
        "        break\n",
        "writer.close()"
      ],
      "execution_count": 9,
      "outputs": [
        {
          "output_type": "stream",
          "text": [
            "1: loss=1.369, reward_mean=0.010, reward_bound=0.000, batch=1\n",
            "2: loss=1.369, reward_mean=0.010, reward_bound=0.000, batch=2\n",
            "3: loss=1.358, reward_mean=0.000, reward_bound=0.000, batch=2\n",
            "4: loss=1.352, reward_mean=0.030, reward_bound=0.000, batch=5\n",
            "5: loss=1.358, reward_mean=0.020, reward_bound=0.000, batch=7\n",
            "6: loss=1.361, reward_mean=0.030, reward_bound=0.000, batch=10\n",
            "7: loss=1.355, reward_mean=0.020, reward_bound=0.000, batch=12\n",
            "8: loss=1.346, reward_mean=0.020, reward_bound=0.000, batch=14\n",
            "9: loss=1.342, reward_mean=0.050, reward_bound=0.000, batch=19\n",
            "10: loss=1.337, reward_mean=0.010, reward_bound=0.000, batch=20\n",
            "11: loss=1.336, reward_mean=0.010, reward_bound=0.000, batch=21\n",
            "12: loss=1.333, reward_mean=0.010, reward_bound=0.000, batch=22\n",
            "13: loss=1.329, reward_mean=0.000, reward_bound=0.000, batch=22\n",
            "14: loss=1.325, reward_mean=0.000, reward_bound=0.000, batch=22\n",
            "15: loss=1.323, reward_mean=0.040, reward_bound=0.000, batch=26\n",
            "16: loss=1.315, reward_mean=0.060, reward_bound=0.000, batch=32\n",
            "17: loss=1.311, reward_mean=0.040, reward_bound=0.000, batch=36\n",
            "18: loss=1.306, reward_mean=0.030, reward_bound=0.000, batch=39\n",
            "19: loss=1.299, reward_mean=0.080, reward_bound=0.000, batch=47\n",
            "20: loss=1.291, reward_mean=0.040, reward_bound=0.000, batch=51\n",
            "21: loss=1.290, reward_mean=0.040, reward_bound=0.000, batch=55\n",
            "22: loss=1.288, reward_mean=0.050, reward_bound=0.000, batch=60\n",
            "23: loss=1.284, reward_mean=0.030, reward_bound=0.000, batch=63\n",
            "24: loss=1.280, reward_mean=0.100, reward_bound=0.000, batch=73\n",
            "25: loss=1.273, reward_mean=0.080, reward_bound=0.000, batch=81\n",
            "26: loss=1.267, reward_mean=0.030, reward_bound=0.000, batch=84\n",
            "27: loss=1.265, reward_mean=0.050, reward_bound=0.000, batch=89\n",
            "28: loss=1.260, reward_mean=0.060, reward_bound=0.000, batch=95\n",
            "29: loss=1.256, reward_mean=0.120, reward_bound=0.000, batch=107\n",
            "30: loss=1.254, reward_mean=0.030, reward_bound=0.000, batch=110\n",
            "31: loss=1.249, reward_mean=0.050, reward_bound=0.000, batch=115\n",
            "32: loss=1.246, reward_mean=0.000, reward_bound=0.000, batch=115\n",
            "33: loss=1.241, reward_mean=0.080, reward_bound=0.000, batch=123\n",
            "34: loss=1.239, reward_mean=0.060, reward_bound=0.000, batch=129\n",
            "35: loss=1.232, reward_mean=0.060, reward_bound=0.000, batch=135\n",
            "36: loss=1.228, reward_mean=0.040, reward_bound=0.000, batch=139\n",
            "37: loss=1.223, reward_mean=0.060, reward_bound=0.000, batch=145\n",
            "38: loss=1.220, reward_mean=0.040, reward_bound=0.000, batch=149\n",
            "39: loss=1.219, reward_mean=0.100, reward_bound=0.000, batch=159\n",
            "40: loss=1.215, reward_mean=0.090, reward_bound=0.000, batch=168\n",
            "41: loss=1.211, reward_mean=0.040, reward_bound=0.000, batch=172\n",
            "42: loss=1.206, reward_mean=0.080, reward_bound=0.000, batch=180\n",
            "43: loss=1.202, reward_mean=0.090, reward_bound=0.000, batch=189\n",
            "44: loss=1.196, reward_mean=0.110, reward_bound=0.000, batch=200\n",
            "45: loss=1.195, reward_mean=0.070, reward_bound=0.000, batch=207\n",
            "46: loss=1.189, reward_mean=0.100, reward_bound=0.063, batch=215\n",
            "47: loss=1.186, reward_mean=0.050, reward_bound=0.013, batch=220\n",
            "48: loss=1.171, reward_mean=0.090, reward_bound=0.098, batch=219\n",
            "49: loss=1.157, reward_mean=0.140, reward_bound=0.141, batch=223\n",
            "50: loss=1.137, reward_mean=0.180, reward_bound=0.167, batch=225\n",
            "51: loss=1.131, reward_mean=0.100, reward_bound=0.189, batch=227\n",
            "52: loss=1.120, reward_mean=0.130, reward_bound=0.206, batch=228\n",
            "53: loss=1.107, reward_mean=0.170, reward_bound=0.229, batch=228\n",
            "54: loss=1.085, reward_mean=0.150, reward_bound=0.254, batch=221\n",
            "55: loss=1.053, reward_mean=0.160, reward_bound=0.282, batch=204\n",
            "56: loss=1.048, reward_mean=0.140, reward_bound=0.280, batch=213\n",
            "57: loss=1.025, reward_mean=0.170, reward_bound=0.314, batch=183\n",
            "58: loss=1.014, reward_mean=0.210, reward_bound=0.335, batch=198\n",
            "59: loss=1.012, reward_mean=0.080, reward_bound=0.000, batch=206\n",
            "60: loss=0.999, reward_mean=0.170, reward_bound=0.282, batch=213\n",
            "61: loss=0.964, reward_mean=0.200, reward_bound=0.349, batch=183\n",
            "62: loss=0.954, reward_mean=0.190, reward_bound=0.314, batch=195\n",
            "63: loss=0.946, reward_mean=0.230, reward_bound=0.349, batch=204\n",
            "64: loss=0.905, reward_mean=0.180, reward_bound=0.387, batch=172\n",
            "65: loss=0.909, reward_mean=0.210, reward_bound=0.185, batch=190\n",
            "66: loss=0.908, reward_mean=0.180, reward_bound=0.274, batch=203\n",
            "67: loss=0.891, reward_mean=0.150, reward_bound=0.282, batch=210\n",
            "68: loss=0.875, reward_mean=0.170, reward_bound=0.349, batch=207\n",
            "69: loss=0.861, reward_mean=0.160, reward_bound=0.387, batch=208\n",
            "70: loss=0.801, reward_mean=0.250, reward_bound=0.430, batch=143\n",
            "71: loss=0.809, reward_mean=0.280, reward_bound=0.229, batch=169\n",
            "72: loss=0.802, reward_mean=0.320, reward_bound=0.314, batch=187\n",
            "73: loss=0.778, reward_mean=0.290, reward_bound=0.387, batch=195\n",
            "74: loss=0.750, reward_mean=0.320, reward_bound=0.430, batch=186\n",
            "75: loss=0.741, reward_mean=0.270, reward_bound=0.430, batch=196\n",
            "76: loss=0.728, reward_mean=0.300, reward_bound=0.454, batch=207\n",
            "77: loss=0.627, reward_mean=0.300, reward_bound=0.478, batch=106\n",
            "78: loss=0.687, reward_mean=0.280, reward_bound=0.000, batch=134\n",
            "79: loss=0.717, reward_mean=0.350, reward_bound=0.311, batch=164\n",
            "80: loss=0.696, reward_mean=0.240, reward_bound=0.314, batch=182\n",
            "81: loss=0.660, reward_mean=0.320, reward_bound=0.349, batch=194\n",
            "82: loss=0.590, reward_mean=0.360, reward_bound=0.430, batch=172\n",
            "83: loss=0.580, reward_mean=0.380, reward_bound=0.445, batch=190\n",
            "84: loss=0.539, reward_mean=0.290, reward_bound=0.478, batch=166\n",
            "85: loss=0.527, reward_mean=0.400, reward_bound=0.478, batch=177\n",
            "86: loss=0.522, reward_mean=0.320, reward_bound=0.430, batch=190\n",
            "87: loss=0.505, reward_mean=0.440, reward_bound=0.478, batch=199\n",
            "89: loss=0.757, reward_mean=0.430, reward_bound=0.000, batch=43\n",
            "90: loss=0.743, reward_mean=0.440, reward_bound=0.000, batch=87\n",
            "91: loss=0.727, reward_mean=0.300, reward_bound=0.000, batch=117\n",
            "92: loss=0.680, reward_mean=0.420, reward_bound=0.314, batch=151\n",
            "93: loss=0.628, reward_mean=0.420, reward_bound=0.387, batch=162\n",
            "94: loss=0.526, reward_mean=0.410, reward_bound=0.430, batch=144\n",
            "95: loss=0.436, reward_mean=0.500, reward_bound=0.478, batch=107\n",
            "96: loss=0.488, reward_mean=0.510, reward_bound=0.387, batch=144\n",
            "97: loss=0.427, reward_mean=0.560, reward_bound=0.478, batch=146\n",
            "98: loss=0.417, reward_mean=0.600, reward_bound=0.478, batch=166\n",
            "100: loss=0.666, reward_mean=0.610, reward_bound=0.000, batch=61\n",
            "101: loss=0.651, reward_mean=0.450, reward_bound=0.000, batch=106\n",
            "102: loss=0.528, reward_mean=0.580, reward_bound=0.387, batch=129\n",
            "103: loss=0.462, reward_mean=0.530, reward_bound=0.430, batch=138\n",
            "104: loss=0.452, reward_mean=0.590, reward_bound=0.478, batch=174\n",
            "105: loss=0.373, reward_mean=0.540, reward_bound=0.478, batch=143\n",
            "107: loss=0.592, reward_mean=0.580, reward_bound=0.000, batch=58\n",
            "108: loss=0.528, reward_mean=0.600, reward_bound=0.387, batch=108\n",
            "109: loss=0.467, reward_mean=0.610, reward_bound=0.430, batch=137\n",
            "110: loss=0.350, reward_mean=0.650, reward_bound=0.478, batch=124\n",
            "111: loss=0.344, reward_mean=0.570, reward_bound=0.478, batch=151\n",
            "113: loss=0.529, reward_mean=0.590, reward_bound=0.000, batch=59\n",
            "114: loss=0.431, reward_mean=0.600, reward_bound=0.387, batch=110\n",
            "115: loss=0.391, reward_mean=0.590, reward_bound=0.464, batch=147\n",
            "116: loss=0.323, reward_mean=0.720, reward_bound=0.478, batch=158\n",
            "118: loss=0.468, reward_mean=0.740, reward_bound=0.387, batch=65\n",
            "119: loss=0.408, reward_mean=0.640, reward_bound=0.430, batch=106\n",
            "120: loss=0.311, reward_mean=0.690, reward_bound=0.478, batch=115\n",
            "122: loss=0.366, reward_mean=0.780, reward_bound=0.430, batch=62\n",
            "123: loss=0.377, reward_mean=0.610, reward_bound=0.430, batch=109\n",
            "124: loss=0.286, reward_mean=0.750, reward_bound=0.478, batch=128\n",
            "126: loss=0.482, reward_mean=0.670, reward_bound=0.000, batch=67\n",
            "127: loss=0.277, reward_mean=0.800, reward_bound=0.478, batch=93\n",
            "129: loss=0.392, reward_mean=0.730, reward_bound=0.387, batch=69\n",
            "130: loss=0.276, reward_mean=0.790, reward_bound=0.478, batch=104\n",
            "132: loss=0.325, reward_mean=0.790, reward_bound=0.430, batch=65\n",
            "133: loss=0.268, reward_mean=0.800, reward_bound=0.478, batch=104\n",
            "135: loss=0.347, reward_mean=0.790, reward_bound=0.430, batch=65\n",
            "136: loss=0.264, reward_mean=0.770, reward_bound=0.478, batch=104\n",
            "138: loss=0.310, reward_mean=0.770, reward_bound=0.430, batch=67\n",
            "139: loss=0.258, reward_mean=0.740, reward_bound=0.478, batch=106\n",
            "141: loss=0.311, reward_mean=0.830, reward_bound=0.478, batch=73\n",
            "Solved!\n"
          ],
          "name": "stdout"
        }
      ]
    },
    {
      "cell_type": "code",
      "metadata": {
        "id": "C-CWNsYpWWkK",
        "colab_type": "code",
        "colab": {}
      },
      "source": [
        ""
      ],
      "execution_count": null,
      "outputs": []
    }
  ]
}