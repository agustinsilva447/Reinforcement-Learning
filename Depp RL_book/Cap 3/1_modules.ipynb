{
  "nbformat": 4,
  "nbformat_minor": 0,
  "metadata": {
    "colab": {
      "name": "1 - modules.ipynb",
      "provenance": [],
      "collapsed_sections": []
    },
    "kernelspec": {
      "name": "python3",
      "display_name": "Python 3"
    },
    "accelerator": "GPU"
  },
  "cells": [
    {
      "cell_type": "code",
      "metadata": {
        "id": "rfjBwPvqZMuu",
        "colab_type": "code",
        "colab": {}
      },
      "source": [
        "import torch\n",
        "import torch.nn as nn\n",
        "\n",
        "class OurModule(nn.Module):\n",
        "    def __init__(self, num_inputs, num_classes, dropout_prob=0.3):\n",
        "        super(OurModule, self).__init__()\n",
        "        self.pipe = nn.Sequential(\n",
        "            nn.Linear(num_inputs, 5),\n",
        "            nn.ReLU(),\n",
        "            nn.Linear(5, 20),\n",
        "            nn.ReLU(),\n",
        "            nn.Linear(20, num_classes),\n",
        "            nn.Dropout(p=dropout_prob),\n",
        "            nn.Softmax(dim=1)\n",
        "        )\n",
        "\n",
        "    def forward(self, x):\n",
        "        return self.pipe(x)"
      ],
      "execution_count": 2,
      "outputs": []
    },
    {
      "cell_type": "code",
      "metadata": {
        "id": "7QWw5j0OT4E_",
        "colab_type": "code",
        "colab": {
          "base_uri": "https://localhost:8080/",
          "height": 255
        },
        "outputId": "bc9aac0c-3abf-4154-dda9-61443f04e918"
      },
      "source": [
        "net = OurModule(num_inputs=2, num_classes=3)\n",
        "print(net)\n",
        "v = torch.FloatTensor([[2, 3]])\n",
        "out = net(v)\n",
        "print(out)\n",
        "print(\"Cuda's availability is %s\" % torch.cuda.is_available())\n",
        "if torch.cuda.is_available():\n",
        "    print(\"Data from cuda: %s\" % out.to('cuda'))"
      ],
      "execution_count": 3,
      "outputs": [
        {
          "output_type": "stream",
          "text": [
            "OurModule(\n",
            "  (pipe): Sequential(\n",
            "    (0): Linear(in_features=2, out_features=5, bias=True)\n",
            "    (1): ReLU()\n",
            "    (2): Linear(in_features=5, out_features=20, bias=True)\n",
            "    (3): ReLU()\n",
            "    (4): Linear(in_features=20, out_features=3, bias=True)\n",
            "    (5): Dropout(p=0.3, inplace=False)\n",
            "    (6): Softmax(dim=1)\n",
            "  )\n",
            ")\n",
            "tensor([[0.3562, 0.3276, 0.3163]], grad_fn=<SoftmaxBackward>)\n",
            "Cuda's availability is True\n",
            "Data from cuda: tensor([[0.3562, 0.3276, 0.3163]], device='cuda:0', grad_fn=<CopyBackwards>)\n"
          ],
          "name": "stdout"
        }
      ]
    },
    {
      "cell_type": "code",
      "metadata": {
        "id": "w5Pru8y8ULFk",
        "colab_type": "code",
        "colab": {
          "base_uri": "https://localhost:8080/",
          "height": 35
        },
        "outputId": "0cf706a4-5447-423d-8828-6fdada2760d5"
      },
      "source": [
        "torch.__version__"
      ],
      "execution_count": 4,
      "outputs": [
        {
          "output_type": "execute_result",
          "data": {
            "application/vnd.google.colaboratory.intrinsic+json": {
              "type": "string"
            },
            "text/plain": [
              "'1.6.0+cu101'"
            ]
          },
          "metadata": {
            "tags": []
          },
          "execution_count": 4
        }
      ]
    }
  ]
}