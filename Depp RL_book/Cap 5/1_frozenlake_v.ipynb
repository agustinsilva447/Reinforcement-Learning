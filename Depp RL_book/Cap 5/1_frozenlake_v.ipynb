{
  "nbformat": 4,
  "nbformat_minor": 0,
  "metadata": {
    "colab": {
      "name": "1_frozenlake_v.ipynb",
      "provenance": []
    },
    "kernelspec": {
      "name": "python3",
      "display_name": "Python 3"
    },
    "accelerator": "GPU"
  },
  "cells": [
    {
      "cell_type": "code",
      "metadata": {
        "id": "Kbg12CXUAqDw",
        "colab_type": "code",
        "colab": {
          "base_uri": "https://localhost:8080/",
          "height": 190
        },
        "outputId": "78c34df2-f7d3-4bfd-e1d1-652e0a1b24a7"
      },
      "source": [
        "! pip install tensorboardX"
      ],
      "execution_count": 2,
      "outputs": [
        {
          "output_type": "stream",
          "text": [
            "Collecting tensorboardX\n",
            "\u001b[?25l  Downloading https://files.pythonhosted.org/packages/af/0c/4f41bcd45db376e6fe5c619c01100e9b7531c55791b7244815bac6eac32c/tensorboardX-2.1-py2.py3-none-any.whl (308kB)\n",
            "\r\u001b[K     |█                               | 10kB 28.5MB/s eta 0:00:01\r\u001b[K     |██▏                             | 20kB 2.7MB/s eta 0:00:01\r\u001b[K     |███▏                            | 30kB 2.7MB/s eta 0:00:01\r\u001b[K     |████▎                           | 40kB 3.2MB/s eta 0:00:01\r\u001b[K     |█████▎                          | 51kB 3.3MB/s eta 0:00:01\r\u001b[K     |██████▍                         | 61kB 3.6MB/s eta 0:00:01\r\u001b[K     |███████▍                        | 71kB 4.0MB/s eta 0:00:01\r\u001b[K     |████████▌                       | 81kB 4.0MB/s eta 0:00:01\r\u001b[K     |█████████▌                      | 92kB 4.1MB/s eta 0:00:01\r\u001b[K     |██████████▋                     | 102kB 4.2MB/s eta 0:00:01\r\u001b[K     |███████████▊                    | 112kB 4.2MB/s eta 0:00:01\r\u001b[K     |████████████▊                   | 122kB 4.2MB/s eta 0:00:01\r\u001b[K     |█████████████▉                  | 133kB 4.2MB/s eta 0:00:01\r\u001b[K     |██████████████▉                 | 143kB 4.2MB/s eta 0:00:01\r\u001b[K     |████████████████                | 153kB 4.2MB/s eta 0:00:01\r\u001b[K     |█████████████████               | 163kB 4.2MB/s eta 0:00:01\r\u001b[K     |██████████████████              | 174kB 4.2MB/s eta 0:00:01\r\u001b[K     |███████████████████             | 184kB 4.2MB/s eta 0:00:01\r\u001b[K     |████████████████████▏           | 194kB 4.2MB/s eta 0:00:01\r\u001b[K     |█████████████████████▎          | 204kB 4.2MB/s eta 0:00:01\r\u001b[K     |██████████████████████▎         | 215kB 4.2MB/s eta 0:00:01\r\u001b[K     |███████████████████████▍        | 225kB 4.2MB/s eta 0:00:01\r\u001b[K     |████████████████████████▍       | 235kB 4.2MB/s eta 0:00:01\r\u001b[K     |█████████████████████████▌      | 245kB 4.2MB/s eta 0:00:01\r\u001b[K     |██████████████████████████▌     | 256kB 4.2MB/s eta 0:00:01\r\u001b[K     |███████████████████████████▋    | 266kB 4.2MB/s eta 0:00:01\r\u001b[K     |████████████████████████████▋   | 276kB 4.2MB/s eta 0:00:01\r\u001b[K     |█████████████████████████████▊  | 286kB 4.2MB/s eta 0:00:01\r\u001b[K     |██████████████████████████████▊ | 296kB 4.2MB/s eta 0:00:01\r\u001b[K     |███████████████████████████████▉| 307kB 4.2MB/s eta 0:00:01\r\u001b[K     |████████████████████████████████| 317kB 4.2MB/s \n",
            "\u001b[?25hRequirement already satisfied: six in /usr/local/lib/python3.6/dist-packages (from tensorboardX) (1.15.0)\n",
            "Requirement already satisfied: protobuf>=3.8.0 in /usr/local/lib/python3.6/dist-packages (from tensorboardX) (3.12.4)\n",
            "Requirement already satisfied: numpy in /usr/local/lib/python3.6/dist-packages (from tensorboardX) (1.18.5)\n",
            "Requirement already satisfied: setuptools in /usr/local/lib/python3.6/dist-packages (from protobuf>=3.8.0->tensorboardX) (50.3.0)\n",
            "Installing collected packages: tensorboardX\n",
            "Successfully installed tensorboardX-2.1\n"
          ],
          "name": "stdout"
        }
      ]
    },
    {
      "cell_type": "code",
      "metadata": {
        "id": "BFY_eIUYYMAR",
        "colab_type": "code",
        "colab": {}
      },
      "source": [
        "import gym\n",
        "import collections\n",
        "from tensorboardX import SummaryWriter\n",
        "\n",
        "ENV_NAME = \"FrozenLake-v0\"\n",
        "#ENV_NAME = \"FrozenLake8x8-v0\"      # uncomment for larger version\n",
        "GAMMA = 0.9\n",
        "TEST_EPISODES = 20"
      ],
      "execution_count": 3,
      "outputs": []
    },
    {
      "cell_type": "code",
      "metadata": {
        "id": "Jb1nkRbFAmBW",
        "colab_type": "code",
        "colab": {}
      },
      "source": [
        "class Agent:\n",
        "    def __init__(self):\n",
        "        self.env = gym.make(ENV_NAME)\n",
        "        self.state = self.env.reset()\n",
        "        self.rewards = collections.defaultdict(float)\n",
        "        self.transits = collections.defaultdict(\n",
        "            collections.Counter)\n",
        "        self.values = collections.defaultdict(float)\n",
        "\n",
        "    def play_n_random_steps(self, count):\n",
        "        for _ in range(count):\n",
        "            action = self.env.action_space.sample()\n",
        "            new_state, reward, is_done, _ = self.env.step(action)\n",
        "            self.rewards[(self.state, action, new_state)] = reward\n",
        "            self.transits[(self.state, action)][new_state] += 1\n",
        "            self.state = self.env.reset() \\\n",
        "                if is_done else new_state\n",
        "\n",
        "    def calc_action_value(self, state, action):\n",
        "        target_counts = self.transits[(state, action)]\n",
        "        total = sum(target_counts.values())\n",
        "        action_value = 0.0\n",
        "        for tgt_state, count in target_counts.items():\n",
        "            reward = self.rewards[(state, action, tgt_state)]\n",
        "            val = reward + GAMMA * self.values[tgt_state]\n",
        "            action_value += (count / total) * val\n",
        "        return action_value\n",
        "\n",
        "    def select_action(self, state):\n",
        "        best_action, best_value = None, None\n",
        "        for action in range(self.env.action_space.n):\n",
        "            action_value = self.calc_action_value(state, action)\n",
        "            if best_value is None or best_value < action_value:\n",
        "                best_value = action_value\n",
        "                best_action = action\n",
        "        return best_action\n",
        "\n",
        "    def play_episode(self, env):\n",
        "        total_reward = 0.0\n",
        "        state = env.reset()\n",
        "        while True:\n",
        "            action = self.select_action(state)\n",
        "            new_state, reward, is_done, _ = env.step(action)\n",
        "            self.rewards[(state, action, new_state)] = reward\n",
        "            self.transits[(state, action)][new_state] += 1\n",
        "            total_reward += reward\n",
        "            if is_done:\n",
        "                break\n",
        "            state = new_state\n",
        "        return total_reward\n",
        "\n",
        "    def value_iteration(self):\n",
        "        for state in range(self.env.observation_space.n):\n",
        "            state_values = [\n",
        "                self.calc_action_value(state, action)\n",
        "                for action in range(self.env.action_space.n)\n",
        "            ]\n",
        "            self.values[state] = max(state_values)"
      ],
      "execution_count": 4,
      "outputs": []
    },
    {
      "cell_type": "code",
      "metadata": {
        "id": "7bdvcFwsAy89",
        "colab_type": "code",
        "colab": {
          "base_uri": "https://localhost:8080/",
          "height": 136
        },
        "outputId": "e267f852-d567-41ac-e0d4-f72ffe952255"
      },
      "source": [
        "test_env = gym.make(ENV_NAME)\n",
        "agent = Agent()\n",
        "writer = SummaryWriter(comment=\"-v-iteration\")\n",
        "\n",
        "iter_no = 0\n",
        "best_reward = 0.0\n",
        "while True:\n",
        "    iter_no += 1\n",
        "    agent.play_n_random_steps(100)\n",
        "    agent.value_iteration()\n",
        "\n",
        "    reward = 0.0\n",
        "    for _ in range(TEST_EPISODES):\n",
        "        reward += agent.play_episode(test_env)\n",
        "    reward /= TEST_EPISODES\n",
        "    writer.add_scalar(\"reward\", reward, iter_no)\n",
        "    if reward > best_reward:\n",
        "        print(\"Best reward updated %.3f -> %.3f\" % (\n",
        "            best_reward, reward))\n",
        "        best_reward = reward\n",
        "    if reward > 0.80:\n",
        "        print(\"Solved in %d iterations!\" % iter_no)\n",
        "        break\n",
        "writer.close()"
      ],
      "execution_count": 5,
      "outputs": [
        {
          "output_type": "stream",
          "text": [
            "Best reward updated 0.000 -> 0.200\n",
            "Best reward updated 0.200 -> 0.300\n",
            "Best reward updated 0.300 -> 0.350\n",
            "Best reward updated 0.350 -> 0.450\n",
            "Best reward updated 0.450 -> 0.700\n",
            "Best reward updated 0.700 -> 0.850\n",
            "Solved in 56 iterations!\n"
          ],
          "name": "stdout"
        }
      ]
    },
    {
      "cell_type": "code",
      "metadata": {
        "id": "8bvLQx1ZA4sO",
        "colab_type": "code",
        "colab": {}
      },
      "source": [
        ""
      ],
      "execution_count": null,
      "outputs": []
    }
  ]
}