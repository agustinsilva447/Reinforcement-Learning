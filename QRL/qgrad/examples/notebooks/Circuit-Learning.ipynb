{
 "cells": [
  {
   "cell_type": "markdown",
   "metadata": {},
   "source": [
    "# Learning a parametrized quantum circuit\n",
    "\n",
    "In this tutorial, we show how `qgrad` can be used \n",
    "to perform circuit learning as well, in that how \n",
    "it helps us to take gradients of circuits.\n",
    "\n",
    "For this example, we will train a simple \n",
    "variational quantum circuit. We shall apply \n",
    "rotations around $X, Y$ and $Z$ axes and \n",
    "shall use CNOT as an entangling gate. Note \n",
    "that `qgrad` was not motivated to be a circuit\n",
    "library, so one would have to define the gates \n",
    "themselves, which understandably creates some\n",
    "friction when working with quantum circuits.\n",
    "The goal of this tutorial, however, is to \n",
    "merely showcase that circuit learning is indeed \n",
    "_possible_ in `qgrad`\n",
    "\n",
    "We train a two-qubit circuit and measure \n",
    "the the first qubit and take the expectation\n",
    "with respect to the $\\sigma_{z}$ operator. This\n",
    "serves as our cost function in this routine and \n",
    "the aim is to minimize this cost function\n",
    "using optimal rotation angles for the rotation \n",
    "gates.\n",
    "\n"
   ]
  },
  {
   "cell_type": "code",
   "execution_count": 9,
   "metadata": {},
   "outputs": [],
   "source": [
    "from functools import reduce\n",
    "\n",
    "import jax.numpy as jnp\n",
    "from jax.random import PRNGKey, uniform\n",
    "from jax.experimental import optimizers\n",
    "from jax import grad\n",
    "\n",
    "from qutip import sigmaz\n",
    "\n",
    "import matplotlib.pyplot as plt\n",
    "\n",
    "from qgrad.qgrad_qutip import basis, expect, sigmaz, Unitary"
   ]
  },
  {
   "cell_type": "code",
   "execution_count": 21,
   "metadata": {},
   "outputs": [],
   "source": [
    "def rx(phi):\n",
    "    \"\"\"Rotation around x-axis\n",
    "    \n",
    "    Args:\n",
    "        phi (float): rotation angle\n",
    "        \n",
    "    Returns:\n",
    "        :obj:`jnp.ndarray`: Matrix\n",
    "        representing rotation around\n",
    "        the x-axis\n",
    "    \n",
    "    \"\"\"\n",
    "    return jnp.array([[jnp.cos(phi / 2), -1j * jnp.sin(phi / 2)],\n",
    "                     [-1j * jnp.sin(phi / 2), jnp.cos(phi / 2)]])\n",
    "\n",
    "def ry(phi):\n",
    "    \"\"\"Rotation around y-axis\n",
    "    \n",
    "    Args:\n",
    "        phi (float): rotation angle\n",
    "        \n",
    "    Returns:\n",
    "        :obj:`jnp.ndarray`: Matrix\n",
    "        representing rotation around\n",
    "        the y-axis\n",
    "    \n",
    "    \"\"\"\n",
    "    return jnp.array([[jnp.cos(phi / 2), -jnp.sin(phi / 2)],\n",
    "                     [jnp.sin(phi / 2), jnp.cos(phi / 2)]])\n",
    "\n",
    "def rz(phi):\n",
    "    \"\"\"Rotation around z-axis\n",
    "    \n",
    "    Args:\n",
    "        phi (float): rotation angle\n",
    "        \n",
    "    Returns:\n",
    "        :obj:`jnp.ndarray`: Matrix\n",
    "        representing rotation around\n",
    "        the z-axis\n",
    "    \n",
    "    \"\"\"\n",
    "    return jnp.array([[jnp.exp(-1j * phi / 2), 0],\n",
    "                     [0, jnp.exp(1j * phi / 2)]])\n",
    "\n",
    "def cnot():\n",
    "    \"\"\"Returns a CNOT gate\"\"\"\n",
    "    return jnp.array([[1, 0, 0, 0],\n",
    "                     [0, 1, 0, 0],\n",
    "                     [0, 0, 0, 1],\n",
    "                     [0, 0, 1, 0]],)\n"
   ]
  },
  {
   "cell_type": "code",
   "execution_count": 11,
   "metadata": {},
   "outputs": [],
   "source": [
    "def circuit(params):\n",
    "    \"\"\"Returns the state evolved by\n",
    "    the parametrized circuit\n",
    "    \n",
    "    Args:\n",
    "        params (list): rotation angles for \n",
    "            x, y, and z rotations respectively.\n",
    "        \n",
    "    Returns:\n",
    "        :obj:`jnp.array`: state evolved\n",
    "        by a parametrized circuit\n",
    "    \"\"\"\n",
    "    thetax, thetay, thetaz = params\n",
    "    layer0 = jnp.kron(basis(2, 0), basis(2, 0))\n",
    "    layer1 = jnp.kron(ry(jnp.pi / 4), ry(jnp.pi / 4))\n",
    "    layer2 = jnp.kron(rx(thetax), jnp.eye(2))\n",
    "    layer3 = jnp.kron(ry(thetay), rz(thetaz))\n",
    "    layers = [layer1, cnot(), layer2, cnot(), layer3]\n",
    "    unitary = reduce(lambda  x, y : jnp.dot(x, y), layers)\n",
    "    return jnp.dot(unitary, layer0)"
   ]
  },
  {
   "cell_type": "markdown",
   "metadata": {},
   "source": [
    "## The Circuit\n",
    "\n",
    "Our 2 qubit circuit looks like follows\n",
    "\n",
    "<img src=\"images/circuit.jpg\">\n",
    "\n",
    "We add constant $Y$ rotation of\n",
    "$\\frac{\\pi}{4}$ in the first\n",
    "layer to avoid any preferential \n",
    "gradient direction in the beginning."
   ]
  },
  {
   "cell_type": "code",
   "execution_count": 12,
   "metadata": {},
   "outputs": [],
   "source": [
    "# pauli Z on the first qubit\n",
    "op = jnp.kron(sigmaz(), jnp.eye(2))\n",
    "\n",
    "def cost(params, op):\n",
    "    \"\"\"Cost function to optimize\n",
    "    \n",
    "    Args:\n",
    "        params (list): rotation angles for \n",
    "            x, y, and z rotations respectively\n",
    "        op (:obj:`jnp.ndarray`): Operator\n",
    "        with respect to which the expectation\n",
    "        value is to be calculated\n",
    "    \n",
    "    Returns:\n",
    "        float: Expectation value of the evloved\n",
    "        state w.r.t the given operator `op`\n",
    "        \n",
    "    \"\"\"\n",
    "    state = circuit(params)\n",
    "    return jnp.real(expect(op, state))"
   ]
  },
  {
   "cell_type": "code",
   "execution_count": 19,
   "metadata": {},
   "outputs": [
    {
     "name": "stdout",
     "output_type": "stream",
     "text": [
      "Epoch: 50.000000 | Loss: 0.262702\n",
      "Epoch: 100.000000 | Loss: -0.274620\n",
      "Epoch: 150.000000 | Loss: -0.691323\n",
      "Epoch: 200.000000 | Loss: -0.902352\n",
      "Epoch: 250.000000 | Loss: -0.976295\n",
      "Epoch: 300.000000 | Loss: -0.995449\n",
      "Epoch: 350.000000 | Loss: -0.999299\n",
      "Epoch: 400.000000 | Loss: -0.999913\n"
     ]
    }
   ],
   "source": [
    "# fixed random parameter initialization\n",
    "init_params = [0., 0., 0.]\n",
    "opt_init, opt_update, get_params = optimizers.adam(step_size=1e-2)\n",
    "opt_state = opt_init(init_params)\n",
    "\n",
    "def step(i, opt_state, opt_update):\n",
    "    params = get_params(opt_state)\n",
    "    g = grad(cost)(params, op)\n",
    "    return opt_update(i, g, opt_state)\n",
    "\n",
    "epochs = 400\n",
    "loss_hist = []\n",
    "\n",
    "for epoch in range(epochs):\n",
    "    opt_state = step(epoch, opt_state, opt_update)\n",
    "    params = get_params(opt_state)\n",
    "    loss = cost(params, op)\n",
    "    loss_hist.append(loss)\n",
    "    progress = [epoch+1, loss]\n",
    "    if (epoch % 50 == 49):\n",
    "        print(\"Epoch: {:2f} | Loss: {:3f}\".format(*jnp.asarray(progress)))"
   ]
  },
  {
   "cell_type": "code",
   "execution_count": 22,
   "metadata": {},
   "outputs": [
    {
     "data": {
      "text/plain": [
       "Text(0.5, 0, 'epochs')"
      ]
     },
     "execution_count": 22,
     "metadata": {},
     "output_type": "execute_result"
    },
    {
     "data": {
      "image/png": "[encoded data removed]",
      "text/plain": [
       "<Figure size 432x288 with 1 Axes>"
      ]
     },
     "metadata": {
      "needs_background": "light"
     },
     "output_type": "display_data"
    }
   ],
   "source": [
    "plt.plot(loss_hist)\n",
    "plt.ylabel(\"Loss\")\n",
    "plt.xlabel(\"epochs\")"
   ]
  },
  {
   "cell_type": "markdown",
   "metadata": {},
   "source": [
    "## Conclusion \n",
    "\n",
    "Note that the value of the cost function \n",
    "is bounded between $-1$ and $1$ because\n",
    "we take the expectation value with \n",
    "respect to the Pauli-Z \n",
    "operator. This expectation \n",
    "value of a state $\\psi$\n",
    "with respect to $\\sigma_{z}$\n",
    "is\n",
    "\n",
    "\\begin{equation}\n",
    "\\langle \\psi| \\sigma_{z} |\\psi\\rangle\n",
    "\\end{equation}\n",
    "\n",
    "\n",
    "And it is well-known that \n",
    "\n",
    "\\begin{equation}\n",
    "\\sigma_{z}|0\\rangle = |0\\rangle \\\\\n",
    "\\sigma_{z} |1\\rangle = -|1\\rangle\n",
    "\\end{equation}\n",
    "\n",
    "We see in the graph that the loss starts \n",
    "off bad from around $0.75$ (when the worse\n",
    "it could get was $1$). During the \n",
    "optimization routine, the loss progressively\n",
    "gets down in $400$ epochs to very close to\n",
    "$-1$. which was the best one could expect."
   ]
  }
 ],
 "metadata": {
  "kernelspec": {
   "display_name": "Python 3",
   "language": "python",
   "name": "python3"
  },
  "language_info": {
   "codemirror_mode": {
    "name": "ipython",
    "version": 3
   },
   "file_extension": ".py",
   "mimetype": "text/x-python",
   "name": "python",
   "nbconvert_exporter": "python",
   "pygments_lexer": "ipython3",
   "version": "3.6.9"
  },
  "varInspector": {
   "cols": {
    "lenName": 16,
    "lenType": 16,
    "lenVar": 40
   },
   "kernels_config": {
    "python": {
     "delete_cmd_postfix": "",
     "delete_cmd_prefix": "del ",
     "library": "var_list.py",
     "varRefreshCmd": "print(var_dic_list())"
    },
    "r": {
     "delete_cmd_postfix": ") ",
     "delete_cmd_prefix": "rm(",
     "library": "var_list.r",
     "varRefreshCmd": "cat(var_dic_list()) "
    }
   },
   "types_to_exclude": [
    "module",
    "function",
    "builtin_function_or_method",
    "instance",
    "_Feature"
   ],
   "window_display": true
  }
 },
 "nbformat": 4,
 "nbformat_minor": 2
}
