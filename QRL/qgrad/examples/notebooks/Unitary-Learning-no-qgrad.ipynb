{
 "cells": [
  {
   "cell_type": "markdown",
   "metadata": {},
   "source": [
    "# Unitary Learning without qgrad\n",
    " \n",
    " **Disclaimer:** This tutorial does **not** use `qgrad`. \n",
    " The intention is to show follow this tutorial with \n",
    " another one _using_ `qgrad` to show to how easier\n",
    " things are with qgrad.\n",
    " \n",
    " In this tutorial, we aim to learn unitary matrices\n",
    " using gradient descent. The tutorial numerically \n",
    " reproduces part of \n",
    " [Lloyd et al.](https://arxiv.org/abs/1901.03431) \n",
    " and [Bobak et al.](https://arxiv.org/abs/2001.11897),\n",
    " and follows similar formalism as introduced in the two papers.\n",
    " \n",
    " For a target unitary matrix, $U$, we intend to find \n",
    " optimal parameter vectors for the parameterized unitary\n",
    " $U(\\vec{t}, \\vec{\\tau})$, such that $U(\\vec{t}, \\vec{\\tau})$\n",
    " approximates $U$ as closely as possible.\n",
    " \n",
    "\\begin{equation}\\label{decomp}\n",
    "U(\\vec{t}, \\vec{\\tau}) = \n",
    "e^{-iB\\tau_{N}}e^{-iAt_{N}} \\ldots e^{-iB\\tau_{1}}e^{-iAt_{1}}\n",
    "\\end{equation}\n",
    " \n",
    "where $\\vec{t}$ and $\\vec{\\tau}$ are parameter vectors of size $N$ each\n",
    "and matrices $A$ and $B$ are special Hermitian matrices chosen\n",
    "from a Gaussian Unitary Ensemble (GUE).\n",
    "We shall reproduce the findings of \n",
    "[Lloyd et al.](https://arxiv.org/abs/1901.03431) \n",
    "and [Bobak et al.](https://arxiv.org/abs/2001.11897)\n",
    "that a $d$ dimensional unitary can be approximated \n",
    "with the number of parameters\n",
    "$N$ that scale as $O(d^2)$.\n",
    "\n",
    "For faster numerical computations we intend to learn a simple \n",
    "$2 \\times 2$ unitary matrix $U$. Here the input dataset\n",
    "consists of $2 \\times 1$ random kets, call them\n",
    "$| \\psi_{l} \\rangle$ and output dataset is the action of the \n",
    "target unitary $U$ on these kets, $U |\\psi_{l} \\rangle$. The \n",
    "maximum value of $l$ is $80$, meaning that we merely use 80\n",
    "data points (kets in this case) to efficiently learn the \n",
    "target unitary $U$ from  $U(\\vec{t}, \\vec{\\tau})$\n"
   ]
  },
  {
   "cell_type": "code",
   "execution_count": 118,
   "metadata": {},
   "outputs": [],
   "source": [
    "import matplotlib.pyplot as plt \n",
    "import numpy as np\n",
    "import tenpy \n",
    "from qutip import fidelity, Qobj, rand_ket\n",
    "from scipy.stats import unitary_group\n",
    "from scipy.linalg import expm"
   ]
  },
  {
   "cell_type": "code",
   "execution_count": 106,
   "metadata": {},
   "outputs": [],
   "source": [
    "def make_dataset(m, d):\n",
    "    r\"\"\"Prepares a dataset of input and output\n",
    "        kets to be used for training.\n",
    "    \n",
    "    Args:\n",
    "    ----\n",
    "        m (int): Number of data points, \n",
    "            80% of which would be used for training\n",
    "        d (int): Dimension of a (square) unitary \n",
    "            matrix to be approximated\n",
    "    \n",
    "    Returns:\n",
    "    --------\n",
    "        tuple: tuple of lists containing (numpy arrays of) \n",
    "            input and output kets respectively.\n",
    "    \"\"\"\n",
    "    ket_input = []\n",
    "    ket_output = [] \n",
    "    for i in range(m):\n",
    "        ket_input.append(rand_ket(d, seed=3000).full())\n",
    "        #Output data -- action of unitary on a ket states\n",
    "        ket_output.append(np.matmul(tar_unitr, ket_input[i]))\n",
    "    \n",
    "    return (ket_input, ket_output)\n",
    "\n",
    "\n",
    "m = 100 # number of training data points\n",
    "train_len = int(m * 0.8)\n",
    "d = 2 #dimension of unitary \n",
    "N = 4 #size of parameter vectors tau and t\n",
    "# Fixed random d-dimensional target unitary matrix that we want to learn \n",
    "tar_unitr = unitary_group.rvs(d)                                           \n",
    "res = make_dataset(m, d)\n",
    "ket_input, ket_output = res[0], res[1]"
   ]
  },
  {
   "cell_type": "markdown",
   "metadata": {},
   "source": [
    "## Recipe for making $U(\\vec{t}, \\vec{\\tau})$\n",
    " \n",
    " We make $U(\\vec{t}, \\vec{\\tau})$ by repeated application of $e^{-iB\\tau_{k}}e^{-iAt_{k}}$ at k-th step. We multiply $e^{-iB\\tau_{k}}e^{-iAt_{k}}$ in a [QAOA](https://arxiv.org/abs/1411.4028) like fashion $N$ times, where N is the dimension of $\\vec{t}$ and $\\vec{\\tau}$. Higher N $\\rightarrow$ better approximation.\n",
    " \n",
    "[Lloyd et al.](https://arxiv.org/abs/1901.03431) and [Bobak et al.](https://arxiv.org/abs/2001.11897), matrices $A$ and $B$ are chosen from a Gaussian Unitary Ensemble (GUE). We use `tenpy` to sample $A$ and $B$ from GUE.\n"
   ]
  },
  {
   "cell_type": "code",
   "execution_count": 107,
   "metadata": {},
   "outputs": [],
   "source": [
    "# tenpy for sampling A and B from GUE\n",
    "A = tenpy.linalg.random_matrix.GUE((d,d)) \n",
    "B = tenpy.linalg.random_matrix.GUE((d,d)) "
   ]
  },
  {
   "cell_type": "code",
   "execution_count": 119,
   "metadata": {},
   "outputs": [],
   "source": [
    "def make_unitary(N, params):\n",
    "    r\"\"\"Returns a paramterized unitary matrix.\n",
    "    \n",
    "    : math:: \\begin{equation}\\label{decomp}\n",
    "                U(\\vec{t}, \\vec{\\tau}) =\n",
    "                e^{-iB\\tau_{N}}e^{-iAt_{N}} ... e^{-iB\\tau_{1}}e^{-iAt_{1}}\n",
    "             \\end{equation}\n",
    "             \n",
    "    Args:\n",
    "    ----\n",
    "        N (int): Size of the parameter vectors, \n",
    "            :math:`\\tau` and :math:`\\t`\n",
    "        params (:obj:`np.ndarray`): parameter vector \n",
    "                of size :math:`2 * N` where the first half\n",
    "                parameters are :math:`\\vec{t}` params \n",
    "                and the second half encodes \\vec{\\tau}) \n",
    "                parameters.\n",
    "                                   \n",
    "    Returns:\n",
    "        :obj:`np.ndarray`: numpy array representation of\n",
    "                paramterized unitary matrix \n",
    "    \"\"\"\n",
    "    unitary = np.eye(d)\n",
    "    for i in range (N): \n",
    "        unitary = np.matmul(np.matmul(\n",
    "            expm(-1j * B * params[i + N][0]),\n",
    "            expm(-1j * A * params[i][0])), unitary)\n",
    "    \n",
    "    return unitary \n"
   ]
  },
  {
   "cell_type": "markdown",
   "metadata": {},
   "source": [
    "## Criteria for learnability -- the cost function\n",
    "We use the same cost function as the authors\n",
    "[Seth Lloyd and Reevu Maity, 2020](https://arxiv.org/pdf/1901.03431.pdf)\n",
    "define \n",
    "\n",
    "\n",
    "\\begin{equation} \\label{err_ps}\n",
    "E = 1 - (\\frac{1}{M})\\sum_{l} \\langle \\psi_{l}|U^{\\dagger} U(\\vec{t},\\vec{\\tau})|\\psi_{l}\\rangle\n",
    "\\end{equation}\n",
    "\n",
    " \n",
    "where $|\\psi_{l} \\rangle$ is the input ket,\n",
    "$U(\\vec{t},\\vec{\\tau})$ and $U$ are the \n",
    "parameterized and target unitaries \n",
    "respectively and $M$ is the total\n",
    "number of training data points, which in our\n",
    "example is $80$"
   ]
  },
  {
   "cell_type": "code",
   "execution_count": 109,
   "metadata": {},
   "outputs": [],
   "source": [
    "def cost(params, inputs, outputs):\n",
    "    r\"\"\"Calculates the cost/error on \n",
    "    the whole training dataset.\n",
    "    \n",
    "    Args:\n",
    "    ----\n",
    "        params: parameters:math:`\\t` and\n",
    "            :math:`\\tau` in :math:\n",
    "            `U^{\\dagger} U(\\vec{t},\\vec{\\tau})`\n",
    "        inputs: input kets :math:`|\\psi_{l} \\rangle` \n",
    "            in the dataset \n",
    "        outputs: output kets :math:`U(\\vec{t}, \\vec{\\tau})\n",
    "            |ket_{input}\\rangle` in the dataset\n",
    "    \n",
    "    Returns:\n",
    "    -------\n",
    "        float: cost (evaluated on the entire \n",
    "            dataset) of parametrizing \n",
    "            :math:`U(\\vec{t},\\vec{\\tau})`\n",
    "            with with `params`                  \n",
    "    \"\"\"\n",
    "    loss = 0.0\n",
    "    for k in range(train_len): \n",
    "        #prediction wth parametrized unitary\n",
    "        pred = np.matmul(make_unitary(N, params), inputs[k]) \n",
    "        loss += np.absolute(np.real(\n",
    "            np.matmul(outputs[k].conjugate().T, pred)))\n",
    "    return 1 - (1 / train_len) * loss "
   ]
  },
  {
   "cell_type": "markdown",
   "metadata": {},
   "source": [
    "## Differentation of the cost function\n",
    " \n",
    " Gradient descent is a first order method, \n",
    " so one definitely needs to take the \n",
    " derivative of the cost function. \n",
    " Analytically, the gradient of above \n",
    " error term, or the cost function, is \n",
    " \n",
    " \n",
    "\\begin{equation}\n",
    "\\frac{\\partial}{\\partial \\tau_{k}} E(\\vec{t},\\vec{\\tau}) = -\\frac{1}{M}\\sum_{l} \\langle \\psi_{l}|U^{\\dagger}[e^{-iAt_{N}}e^{-iB\\tau_{N}} ... (-iB)e^{-iB\\tau_{k}}e^{-iAt_{k}} ... e^{-iB\\tau_{1}}e^{-iAt_{1}}]|\\psi_{l}\\rangle\n",
    "\\end{equation}\n",
    "\n",
    " \n",
    " We shall, however, write a simpler derivative routine \n",
    " using finite differences"
   ]
  },
  {
   "cell_type": "code",
   "execution_count": 110,
   "metadata": {},
   "outputs": [],
   "source": [
    "def der_cost(params, inputs, outputs):\n",
    "    r\"\"\"Calculates the numerical \n",
    "    derivative of the cost w.r.t\n",
    "    to each parameter in the cost\n",
    "    function.\n",
    "    \n",
    "    Args:\n",
    "        params (obj:`np.ndarray`): parameters \n",
    "            :math:`\\t` and :math:`\\tau` in :math:\n",
    "            `U^{\\dagger} U(\\vec{t},\\vec{\\tau})`\n",
    "        inputs (obj:`np.ndarray`): input kets \n",
    "            :math:`|\\psi_{l} \\rangle` in the dataset \n",
    "        outputs (obj:`np.ndarray`): output kets \n",
    "            :math:`U(\\vec{t}, \\vec{\\tau})\n",
    "            |ket_{input}\\rangle` in the dataset\n",
    "            \n",
    "    Returns:\n",
    "        :obj:`np.ndarray`: Array of cost derivatives\n",
    "        w.r.t each of the parameters.\n",
    "            \n",
    "    \"\"\"\n",
    "    grad = [] \n",
    "    for i in range(params.shape[0]):\n",
    "        eps = np.zeros((params.shape[0], 1))\n",
    "        eps[i] = eps[i] + 1e-3\n",
    "        grad.append((cost(params+eps, inputs, outputs)\n",
    "                     - cost(params, inputs, outputs)) / 1e-3)\n",
    "    return np.array(grad).reshape(params.shape[0], 1)"
   ]
  },
  {
   "cell_type": "markdown",
   "metadata": {},
   "source": [
    "## Performance Metric -- Fidelity\n",
    " \n",
    "While cost is a valid metric to judge the learnability.\n",
    "We introduce another commonly used metric, the _average_\n",
    "fidelity between the predicted and the output (label) \n",
    "states, as another metric to track during training. Average\n",
    "fidelity over the dataset over a particular set of \n",
    "parameters is defined as:\n",
    "\n",
    "\\begin{equation}\n",
    "F_{avg} = \\frac{1}{M}\\sum_{l}| \\langle \\psi_{in} | \\psi_{pred} \\rangle |^2\n",
    "\\end{equation}\n",
    "\n",
    "where $\\psi_{label}$ \n",
    "represents the resulting (or the output)\n",
    "ket evolved under the target unitary, \n",
    "$U$ as $U |\\psi_{l} \\rangle$ and \n",
    "$\\psi_{pred}$ represents the ket $\\psi_{l}$\n",
    "evolved under \n",
    "$U(\\vec{t}, \\vec{\\tau})$\n",
    "as $U(\\vec{t}, \\vec{\\tau})|\\psi_{l} \\rangle$.\n",
    "\n",
    "  "
   ]
  },
  {
   "cell_type": "code",
   "execution_count": 111,
   "metadata": {},
   "outputs": [],
   "source": [
    "def test_score(params, x, y):\n",
    "    \"\"\"Calculates the average fidelity \n",
    "    between the predicted and output \n",
    "    kets for a given on the whole dataset.\n",
    "       \n",
    "    Args:\n",
    "        params (obj:`np.ndarray`): parameters \n",
    "            :math:`\\t` and :math:`\\tau` in :math:\n",
    "            `U^{\\dagger} U(\\vec{t},\\vec{\\tau})`\n",
    "        inputs (obj:`np.ndarray`): input kets \n",
    "            :math:`|\\psi_{l} \\rangle` in the dataset \n",
    "        outputs (obj:`np.ndarray`): output kets \n",
    "            :math:`U(\\vec{t}, \\vec{\\tau})\n",
    "            |ket_{input}\\rangle` in the dataset\n",
    "           \n",
    "       Returns:\n",
    "           float: fidelity between :math:`U(\\vec{t}, \n",
    "               \\vec{\\tau})|ket_{input} \\rangle` and the output\n",
    "               (label) kets for parameters :math:`\\vec{t},\n",
    "               \\vec{\\tau}` averaged over the entire training set.\n",
    "       \"\"\"\n",
    "    fidel = 0\n",
    "    for i in range(train_len):\n",
    "        pred = np.matmul(make_unitary(N, params), x[i])\n",
    "        step_fidel = fidelity(Qobj(pred), Qobj(y[i]))\n",
    "        fidel += step_fidel\n",
    "        \n",
    "    return fidel / train_len"
   ]
  },
  {
   "cell_type": "markdown",
   "metadata": {},
   "source": [
    "## Gradient Descent Implementation\n",
    " \n",
    " We implement gradient descent based on \n",
    " \n",
    "\\begin{equation} \\label{gd}\n",
    "t_{k} = t_{k} - \\alpha \\frac{\\partial}{\\partial t_{k}}E(\\vec{t},\\vec{\\tau})\n",
    "\\end{equation}\n",
    "\n",
    "for every parameter $t_{k}$,\n",
    "where $\\alpha$ is the learning rate. "
   ]
  },
  {
   "cell_type": "code",
   "execution_count": 120,
   "metadata": {},
   "outputs": [
    {
     "name": "stdout",
     "output_type": "stream",
     "text": [
      "Epoch: 5.000000 | Loss: 0.092668 | Fidelity: 0.908482\n",
      "Epoch: 10.000000 | Loss: 0.011956 | Fidelity: 0.988249\n",
      "Epoch: 15.000000 | Loss: 0.001602 | Fidelity: 0.998427\n"
     ]
    }
   ],
   "source": [
    "np.random.seed(1000)\n",
    "epochs = 15\n",
    "alpha = 1e-1\n",
    "loss_hist = []\n",
    "fidel_hist = []\n",
    "params_hist = []\n",
    "weights = np.random.rand(2 * N, 1)\n",
    "\n",
    "for epoch in range(epochs):\n",
    "    weights = weights - alpha * (der_cost(weights, ket_input, ket_output))\n",
    "    loss = cost(weights, ket_input, ket_output).item() # convert numpy (1,1) array to native python float\n",
    "    avg_fidel = test_score(weights, ket_input, ket_output)\n",
    "    progress = [epoch+1, loss, avg_fidel]\n",
    "    loss_hist.append(loss)\n",
    "    fidel_hist.append(avg_fidel)\n",
    "    params_hist.append(weights)\n",
    "    if ((epoch) % 5 == 4):\n",
    "        print(\"Epoch: {:2f} | Loss: {:3f} | Fidelity: {:3f}\".\n",
    "          format(*np.asarray(progress)))"
   ]
  },
  {
   "cell_type": "markdown",
   "metadata": {},
   "source": [
    "## Efficient reconstruction of the target unitary\n",
    "\n",
    "The papers claim that if the \n",
    "dimension, N, of the parameters\n",
    "is of order $O(d^{2})$, where $d$ \n",
    "is the dimension of the unitary,\n",
    "then $U(\\vec{t},\\vec{\\tau})$ is\n",
    "constructed _efficiently_. \n",
    "We see how this holds true\n",
    "for $d = 2$ and $N = 4$. "
   ]
  },
  {
   "cell_type": "code",
   "execution_count": 122,
   "metadata": {},
   "outputs": [
    {
     "data": {
      "text/plain": [
       "<matplotlib.legend.Legend at 0x7f682646bdd8>"
      ]
     },
     "execution_count": 122,
     "metadata": {},
     "output_type": "execute_result"
    },
    {
     "data": {
      "image/png": "[encoded data removed]",
      "text/plain": [
       "<Figure size 648x432 with 1 Axes>"
      ]
     },
     "metadata": {
      "needs_background": "light"
     },
     "output_type": "display_data"
    }
   ],
   "source": [
    "plt.figure(figsize=(9, 6))\n",
    "plt.plot(range(epochs), np.asarray(fidel_hist).ravel(), marker = 'o', \n",
    "         label=r\"$F_{avg} = \\frac{1}{M}\\sum_{l}| \\langle \\psi_{in} | \\psi_{pred} \\rangle |^2$\")\n",
    "plt.plot( range(epochs), np.asarray(loss_hist).ravel(), marker = 'x',\n",
    "        label=r\"$L = 1 - (\\frac{1}{M})\\sum_{l}\\langle \\psi_{l} | U ^{\\dagger} U(\\vec{t},\\vec{\\tau}) | \\psi_{l} \\rangle$\")\n",
    "plt.title(\"Fidelity and Cost Trends\", fontweight = \"bold\")\n",
    "plt.legend([\"Fidelity\",\"Loss\"])\n",
    "plt.xlabel(\"epoch\")\n",
    "plt.legend(loc=0, prop = {'size': 15})"
   ]
  },
  {
   "cell_type": "markdown",
   "metadata": {},
   "source": [
    " We would expect the average fidelity, $F_{avg}$, to\n",
    " increase since we defined average fidelity to be between \n",
    " $U(\\vec{t}, \\vec{\\tau})|ket_{input} \\rangle$ and\n",
    " the output (label) kets for parameters \n",
    " $\\vec{t}, \\vec{\\tau}$ at a given point in training \n",
    ". The expected pattern is reflected \n",
    " in the training graph above with the loss, $L$, \n",
    "decreases progressively and the fidelity \n",
    ", $F_{avg}$, increases.\n",
    "\n",
    "## Testing on unseen kets\n",
    "\n",
    "We reserved the last $20$ (which is $20 \\%$ of the total dataset)\n",
    "kets for testing. \n",
    "Now we shall apply our learned unitary matrix, call it \n",
    "$U_{opt}(\\vec{t}, \\vec{\\tau})$\n",
    "to the unseen kets and measure the fidelity of the evolved ket\n",
    "under $U_{opt}(\\vec{t}, \\vec{\\tau})$ \n",
    "with those that evolved under the target unitary, $U$.\n",
    " "
   ]
  },
  {
   "cell_type": "code",
   "execution_count": 125,
   "metadata": {},
   "outputs": [
    {
     "data": {
      "text/plain": [
       "[0.9984274341644953,\n",
       " 0.9984274341644953,\n",
       " 0.9984274341644953,\n",
       " 0.9984274341644953,\n",
       " 0.9984274341644953,\n",
       " 0.9984274341644953,\n",
       " 0.9984274341644953,\n",
       " 0.9984274341644953,\n",
       " 0.9984274341644953,\n",
       " 0.9984274341644953,\n",
       " 0.9984274341644953,\n",
       " 0.9984274341644953,\n",
       " 0.9984274341644953,\n",
       " 0.9984274341644953,\n",
       " 0.9984274341644953,\n",
       " 0.9984274341644953,\n",
       " 0.9984274341644953,\n",
       " 0.9984274341644953,\n",
       " 0.9984274341644953,\n",
       " 0.9984274341644953]"
      ]
     },
     "execution_count": 125,
     "metadata": {},
     "output_type": "execute_result"
    }
   ],
   "source": [
    "opt_unitary = make_unitary(N, params_hist[-1])\n",
    "fidel = []\n",
    "for i in range(train_len, m): # unseen data\n",
    "    pred = np.matmul(opt_unitary, ket_input[i])\n",
    "    fidel.append(fidelity(Qobj(pred), Qobj(ket_output[i])))\n",
    "fidel"
   ]
  },
  {
   "cell_type": "markdown",
   "metadata": {},
   "source": [
    "## Conclusion\n",
    " \n",
    "The learned unitary matrix, $U(\\vec{t}, \\vec{\\tau})$, \n",
    "almost perfectly reconstructs the target unitary, $U$, \n",
    "in the sense that the way $U$ evolves a ket\n",
    "$|\\psi_{l} \\rangle$, $U(\\vec{t}, \\vec{\\tau})$ also \n",
    "evovles $|\\psi_{l} \\rangle$ in about the same way. "
   ]
  },
  {
   "cell_type": "markdown",
   "metadata": {},
   "source": [
    "## References\n",
    "\n",
    "1. Lloyd, Seth, and Reevu Maity. \"Efficient implementation of unitary transformations.\" arXiv preprint arXiv:1901.03431 (2019).\n",
    "\n",
    "2. Kiani, Bobak Toussi, Seth Lloyd, and Reevu Maity. \"Learning unitaries by gradient descent.\" arXiv preprint arXiv:2001.11897 (2020)."
   ]
  }
 ],
 "metadata": {
  "kernelspec": {
   "display_name": "Python 3",
   "language": "python",
   "name": "python3"
  },
  "language_info": {
   "codemirror_mode": {
    "name": "ipython",
    "version": 3
   },
   "file_extension": ".py",
   "mimetype": "text/x-python",
   "name": "python",
   "nbconvert_exporter": "python",
   "pygments_lexer": "ipython3",
   "version": "3.6.9"
  },
  "varInspector": {
   "cols": {
    "lenName": 16,
    "lenType": 16,
    "lenVar": 40
   },
   "kernels_config": {
    "python": {
     "delete_cmd_postfix": "",
     "delete_cmd_prefix": "del ",
     "library": "var_list.py",
     "varRefreshCmd": "print(var_dic_list())"
    },
    "r": {
     "delete_cmd_postfix": ") ",
     "delete_cmd_prefix": "rm(",
     "library": "var_list.r",
     "varRefreshCmd": "cat(var_dic_list()) "
    }
   },
   "types_to_exclude": [
    "module",
    "function",
    "builtin_function_or_method",
    "instance",
    "_Feature"
   ],
   "window_display": true
  }
 },
 "nbformat": 4,
 "nbformat_minor": 2
}
