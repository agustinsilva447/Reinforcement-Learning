{
  "nbformat": 4,
  "nbformat_minor": 0,
  "metadata": {
    "colab": {
      "name": "01_frozenlake_q_learning.ipynb",
      "provenance": []
    },
    "kernelspec": {
      "name": "python3",
      "display_name": "Python 3"
    }
  },
  "cells": [
    {
      "cell_type": "code",
      "metadata": {
        "id": "WMo_EGfWsBjs",
        "outputId": "6097b061-24f4-4fda-c0a7-ce31e5eaa0f8",
        "colab": {
          "base_uri": "https://localhost:8080/",
          "height": 190
        }
      },
      "source": [
        "! pip install tensorboardX"
      ],
      "execution_count": 2,
      "outputs": [
        {
          "output_type": "stream",
          "text": [
            "Collecting tensorboardX\n",
            "\u001b[?25l  Downloading https://files.pythonhosted.org/packages/af/0c/4f41bcd45db376e6fe5c619c01100e9b7531c55791b7244815bac6eac32c/tensorboardX-2.1-py2.py3-none-any.whl (308kB)\n",
            "\r\u001b[K     |█                               | 10kB 16.2MB/s eta 0:00:01\r\u001b[K     |██▏                             | 20kB 6.4MB/s eta 0:00:01\r\u001b[K     |███▏                            | 30kB 6.4MB/s eta 0:00:01\r\u001b[K     |████▎                           | 40kB 5.6MB/s eta 0:00:01\r\u001b[K     |█████▎                          | 51kB 4.8MB/s eta 0:00:01\r\u001b[K     |██████▍                         | 61kB 4.6MB/s eta 0:00:01\r\u001b[K     |███████▍                        | 71kB 4.8MB/s eta 0:00:01\r\u001b[K     |████████▌                       | 81kB 4.7MB/s eta 0:00:01\r\u001b[K     |█████████▌                      | 92kB 4.8MB/s eta 0:00:01\r\u001b[K     |██████████▋                     | 102kB 4.7MB/s eta 0:00:01\r\u001b[K     |███████████▊                    | 112kB 4.7MB/s eta 0:00:01\r\u001b[K     |████████████▊                   | 122kB 4.7MB/s eta 0:00:01\r\u001b[K     |█████████████▉                  | 133kB 4.7MB/s eta 0:00:01\r\u001b[K     |██████████████▉                 | 143kB 4.7MB/s eta 0:00:01\r\u001b[K     |████████████████                | 153kB 4.7MB/s eta 0:00:01\r\u001b[K     |█████████████████               | 163kB 4.7MB/s eta 0:00:01\r\u001b[K     |██████████████████              | 174kB 4.7MB/s eta 0:00:01\r\u001b[K     |███████████████████             | 184kB 4.7MB/s eta 0:00:01\r\u001b[K     |████████████████████▏           | 194kB 4.7MB/s eta 0:00:01\r\u001b[K     |█████████████████████▎          | 204kB 4.7MB/s eta 0:00:01\r\u001b[K     |██████████████████████▎         | 215kB 4.7MB/s eta 0:00:01\r\u001b[K     |███████████████████████▍        | 225kB 4.7MB/s eta 0:00:01\r\u001b[K     |████████████████████████▍       | 235kB 4.7MB/s eta 0:00:01\r\u001b[K     |█████████████████████████▌      | 245kB 4.7MB/s eta 0:00:01\r\u001b[K     |██████████████████████████▌     | 256kB 4.7MB/s eta 0:00:01\r\u001b[K     |███████████████████████████▋    | 266kB 4.7MB/s eta 0:00:01\r\u001b[K     |████████████████████████████▋   | 276kB 4.7MB/s eta 0:00:01\r\u001b[K     |█████████████████████████████▊  | 286kB 4.7MB/s eta 0:00:01\r\u001b[K     |██████████████████████████████▊ | 296kB 4.7MB/s eta 0:00:01\r\u001b[K     |███████████████████████████████▉| 307kB 4.7MB/s eta 0:00:01\r\u001b[K     |████████████████████████████████| 317kB 4.7MB/s \n",
            "\u001b[?25hRequirement already satisfied: numpy in /usr/local/lib/python3.6/dist-packages (from tensorboardX) (1.18.5)\n",
            "Requirement already satisfied: six in /usr/local/lib/python3.6/dist-packages (from tensorboardX) (1.15.0)\n",
            "Requirement already satisfied: protobuf>=3.8.0 in /usr/local/lib/python3.6/dist-packages (from tensorboardX) (3.12.4)\n",
            "Requirement already satisfied: setuptools in /usr/local/lib/python3.6/dist-packages (from protobuf>=3.8.0->tensorboardX) (50.3.0)\n",
            "Installing collected packages: tensorboardX\n",
            "Successfully installed tensorboardX-2.1\n"
          ],
          "name": "stdout"
        }
      ]
    },
    {
      "cell_type": "code",
      "metadata": {
        "id": "GD5d8gJtr4yh"
      },
      "source": [
        "import gym\n",
        "import collections\n",
        "from tensorboardX import SummaryWriter"
      ],
      "execution_count": 3,
      "outputs": []
    },
    {
      "cell_type": "code",
      "metadata": {
        "id": "b5R4ixqzr8G7"
      },
      "source": [
        "ENV_NAME = \"FrozenLake-v0\"\n",
        "GAMMA = 0.9\n",
        "ALPHA = 0.2\n",
        "TEST_EPISODES = 20"
      ],
      "execution_count": 4,
      "outputs": []
    },
    {
      "cell_type": "code",
      "metadata": {
        "id": "HJECpECWsH3A"
      },
      "source": [
        "class Agent:\n",
        "    def __init__(self):\n",
        "        self.env = gym.make(ENV_NAME)\n",
        "        self.state = self.env.reset()\n",
        "        self.values = collections.defaultdict(float)\n",
        "\n",
        "    def sample_env(self):\n",
        "        action = self.env.action_space.sample()\n",
        "        old_state = self.state\n",
        "        new_state, reward, is_done, _ = self.env.step(action)\n",
        "        self.state = self.env.reset() if is_done else new_state\n",
        "        return old_state, action, reward, new_state\n",
        "\n",
        "    def best_value_and_action(self, state):\n",
        "        best_value, best_action = None, None\n",
        "        for action in range(self.env.action_space.n):\n",
        "            action_value = self.values[(state, action)]\n",
        "            if best_value is None or best_value < action_value:\n",
        "                best_value = action_value\n",
        "                best_action = action\n",
        "        return best_value, best_action\n",
        "\n",
        "    def value_update(self, s, a, r, next_s):\n",
        "        best_v, _ = self.best_value_and_action(next_s)\n",
        "        new_v = r + GAMMA * best_v\n",
        "        old_v = self.values[(s, a)]\n",
        "        self.values[(s, a)] = old_v * (1-ALPHA) + new_v * ALPHA\n",
        "\n",
        "    def play_episode(self, env):\n",
        "        total_reward = 0.0\n",
        "        state = env.reset()\n",
        "        while True:\n",
        "            _, action = self.best_value_and_action(state)\n",
        "            new_state, reward, is_done, _ = env.step(action)\n",
        "            total_reward += reward\n",
        "            if is_done:\n",
        "                break\n",
        "            state = new_state\n",
        "        return total_reward"
      ],
      "execution_count": 5,
      "outputs": []
    },
    {
      "cell_type": "code",
      "metadata": {
        "id": "lITAUkK4sMeh",
        "outputId": "a2d88359-9093-44c2-dbc1-aed77f0b0bcd",
        "colab": {
          "base_uri": "https://localhost:8080/",
          "height": 289
        }
      },
      "source": [
        "test_env = gym.make(ENV_NAME)\n",
        "agent = Agent()\n",
        "writer = SummaryWriter(comment=\"-q-learning\")\n",
        "\n",
        "iter_no = 0\n",
        "best_reward = 0.0\n",
        "while True:\n",
        "    iter_no += 1\n",
        "    s, a, r, next_s = agent.sample_env()\n",
        "    agent.value_update(s, a, r, next_s)\n",
        "\n",
        "    reward = 0.0\n",
        "    for _ in range(TEST_EPISODES):\n",
        "        reward += agent.play_episode(test_env)\n",
        "    reward /= TEST_EPISODES\n",
        "    writer.add_scalar(\"reward\", reward, iter_no)\n",
        "    if reward > best_reward:\n",
        "        print(\"Best reward updated %.3f -> %.3f\" % (\n",
        "            best_reward, reward))\n",
        "        best_reward = reward\n",
        "    if reward > 0.80:\n",
        "        print(\"Solved in %d iterations!\" % iter_no)\n",
        "        break\n",
        "writer.close()"
      ],
      "execution_count": 6,
      "outputs": [
        {
          "output_type": "stream",
          "text": [
            "Best reward updated 0.000 -> 0.050\n",
            "Best reward updated 0.050 -> 0.100\n",
            "Best reward updated 0.100 -> 0.150\n",
            "Best reward updated 0.150 -> 0.200\n",
            "Best reward updated 0.200 -> 0.250\n",
            "Best reward updated 0.250 -> 0.300\n",
            "Best reward updated 0.300 -> 0.350\n",
            "Best reward updated 0.350 -> 0.400\n",
            "Best reward updated 0.400 -> 0.450\n",
            "Best reward updated 0.450 -> 0.500\n",
            "Best reward updated 0.500 -> 0.550\n",
            "Best reward updated 0.550 -> 0.600\n",
            "Best reward updated 0.600 -> 0.650\n",
            "Best reward updated 0.650 -> 0.750\n",
            "Best reward updated 0.750 -> 0.850\n",
            "Solved in 7903 iterations!\n"
          ],
          "name": "stdout"
        }
      ]
    },
    {
      "cell_type": "code",
      "metadata": {
        "id": "sgCrQqHasSv7"
      },
      "source": [
        ""
      ],
      "execution_count": null,
      "outputs": []
    }
  ]
}