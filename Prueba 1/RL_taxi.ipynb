{
  "nbformat": 4,
  "nbformat_minor": 0,
  "metadata": {
    "colab": {
      "name": "RL_taxi.ipynb",
      "provenance": []
    },
    "kernelspec": {
      "name": "python3",
      "display_name": "Python 3"
    }
  },
  "cells": [
    {
      "cell_type": "code",
      "metadata": {
        "id": "Z76K6loJq7xd"
      },
      "source": [
        "# !pip install cmake 'gym[atari]' scipy\r\n",
        "# https://www.learndatasci.com/tutorials/reinforcement-q-learning-scratch-python-openai-gym/"
      ],
      "execution_count": 1,
      "outputs": []
    },
    {
      "cell_type": "code",
      "metadata": {
        "colab": {
          "base_uri": "https://localhost:8080/"
        },
        "id": "Sq5ZeF1-q967",
        "outputId": "2af8e363-cf2d-4601-99cc-4e3ef054facb"
      },
      "source": [
        "import gym\r\n",
        "env = gym.make(\"Taxi-v3\").env\r\n",
        "env.render()"
      ],
      "execution_count": 2,
      "outputs": [
        {
          "output_type": "stream",
          "text": [
            "+---------+\n",
            "|R: | : :\u001b[34;1mG\u001b[0m|\n",
            "| : | : : |\n",
            "| : :\u001b[43m \u001b[0m: : |\n",
            "| | : | : |\n",
            "|\u001b[35mY\u001b[0m| : |B: |\n",
            "+---------+\n",
            "\n"
          ],
          "name": "stdout"
        }
      ]
    },
    {
      "cell_type": "code",
      "metadata": {
        "colab": {
          "base_uri": "https://localhost:8080/"
        },
        "id": "zAsKuWiIrBGg",
        "outputId": "79144caf-b801-4c51-db64-af83bbe78e45"
      },
      "source": [
        "env.reset() # reset environment to a new, random state\r\n",
        "env.render()\r\n",
        "print(\"Action Space {}\".format(env.action_space))\r\n",
        "print(\"State Space {}\".format(env.observation_space))"
      ],
      "execution_count": 3,
      "outputs": [
        {
          "output_type": "stream",
          "text": [
            "+---------+\n",
            "|\u001b[35mR\u001b[0m: | : :G|\n",
            "| : | : : |\n",
            "| : : : : |\n",
            "|\u001b[43m \u001b[0m| : | : |\n",
            "|Y| : |\u001b[34;1mB\u001b[0m: |\n",
            "+---------+\n",
            "\n",
            "Action Space Discrete(6)\n",
            "State Space Discrete(500)\n"
          ],
          "name": "stdout"
        }
      ]
    },
    {
      "cell_type": "code",
      "metadata": {
        "colab": {
          "base_uri": "https://localhost:8080/"
        },
        "id": "8NOQZOB3rGci",
        "outputId": "7dedc3a2-d396-47f7-c8fe-e22442ea05c4"
      },
      "source": [
        "state = env.encode(3, 1, 2, 0) # (taxi row, taxi column, passenger index, destination index)\r\n",
        "print(\"State:\", state)\r\n",
        "env.s = state\r\n",
        "env.render()"
      ],
      "execution_count": 4,
      "outputs": [
        {
          "output_type": "stream",
          "text": [
            "State: 328\n",
            "+---------+\n",
            "|\u001b[35mR\u001b[0m: | : :G|\n",
            "| : | : : |\n",
            "| : : : : |\n",
            "| |\u001b[43m \u001b[0m: | : |\n",
            "|\u001b[34;1mY\u001b[0m| : |B: |\n",
            "+---------+\n",
            "\n"
          ],
          "name": "stdout"
        }
      ]
    },
    {
      "cell_type": "code",
      "metadata": {
        "colab": {
          "base_uri": "https://localhost:8080/"
        },
        "id": "9XjLb765rJCQ",
        "outputId": "79bdd478-8371-40a5-b7ef-6a51b5d23e86"
      },
      "source": [
        "env.P[328]"
      ],
      "execution_count": 5,
      "outputs": [
        {
          "output_type": "execute_result",
          "data": {
            "text/plain": [
              "{0: [(1.0, 428, -1, False)],\n",
              " 1: [(1.0, 228, -1, False)],\n",
              " 2: [(1.0, 348, -1, False)],\n",
              " 3: [(1.0, 328, -1, False)],\n",
              " 4: [(1.0, 328, -10, False)],\n",
              " 5: [(1.0, 328, -10, False)]}"
            ]
          },
          "metadata": {
            "tags": []
          },
          "execution_count": 5
        }
      ]
    },
    {
      "cell_type": "code",
      "metadata": {
        "colab": {
          "base_uri": "https://localhost:8080/"
        },
        "id": "W8CLFLV7rK8y",
        "outputId": "4137d3de-e232-4970-f605-e07a1dc5b175"
      },
      "source": [
        "env.s = 328  # set environment to illustration's state\r\n",
        "epochs = 0\r\n",
        "penalties, reward = 0, 0\r\n",
        "frames = [] # for animation\r\n",
        "done = False\r\n",
        "\r\n",
        "while not done:\r\n",
        "    action = env.action_space.sample()\r\n",
        "    state, reward, done, info = env.step(action)\r\n",
        "    if reward == -10:\r\n",
        "        penalties += 1\r\n",
        "    # Put each rendered frame into dict for animation\r\n",
        "    frames.append({\r\n",
        "        'frame': env.render(mode='ansi'),\r\n",
        "        'state': state,\r\n",
        "        'action': action,\r\n",
        "        'reward': reward\r\n",
        "        }\r\n",
        "    )\r\n",
        "    epochs += 1\r\n",
        "    \r\n",
        "print(\"Timesteps taken: {}\".format(epochs))\r\n",
        "print(\"Penalties incurred: {}\".format(penalties))"
      ],
      "execution_count": 6,
      "outputs": [
        {
          "output_type": "stream",
          "text": [
            "Timesteps taken: 2775\n",
            "Penalties incurred: 895\n"
          ],
          "name": "stdout"
        }
      ]
    },
    {
      "cell_type": "code",
      "metadata": {
        "colab": {
          "base_uri": "https://localhost:8080/"
        },
        "id": "y_fqu7kJrPbX",
        "outputId": "f51deb14-5884-452f-86f5-f7f31d7eb126"
      },
      "source": [
        "from IPython.display import clear_output\r\n",
        "from time import sleep\r\n",
        "\r\n",
        "def print_frames(frames):\r\n",
        "    for i, frame in enumerate(frames):\r\n",
        "        clear_output(wait=True)\r\n",
        "        print (frame.get(\"frame\"))\r\n",
        "        print(f\"Timestep: {i + 1}\")\r\n",
        "        print(f\"State: {frame['state']}\")\r\n",
        "        print(f\"Action: {frame['action']}\")\r\n",
        "        print(f\"Reward: {frame['reward']}\")\r\n",
        "        sleep(.1)\r\n",
        "        \r\n",
        "print_frames(frames)"
      ],
      "execution_count": 7,
      "outputs": [
        {
          "output_type": "stream",
          "text": [
            "+---------+\n",
            "|\u001b[35m\u001b[34;1m\u001b[43mR\u001b[0m\u001b[0m\u001b[0m: | : :G|\n",
            "| : | : : |\n",
            "| : : : : |\n",
            "| | : | : |\n",
            "|Y| : |B: |\n",
            "+---------+\n",
            "  (Dropoff)\n",
            "\n",
            "Timestep: 2775\n",
            "State: 0\n",
            "Action: 5\n",
            "Reward: 20\n"
          ],
          "name": "stdout"
        }
      ]
    },
    {
      "cell_type": "code",
      "metadata": {
        "id": "qTpwwAwmrSBG"
      },
      "source": [
        "import numpy as np\r\n",
        "q_table = np.zeros([env.observation_space.n, env.action_space.n])"
      ],
      "execution_count": 8,
      "outputs": []
    },
    {
      "cell_type": "code",
      "metadata": {
        "colab": {
          "base_uri": "https://localhost:8080/"
        },
        "id": "0PqHLQU_w0Xe",
        "outputId": "6334c85b-e0aa-4e23-c840-4e87ece1e511"
      },
      "source": [
        "%%time\r\n",
        "\"\"\"Training the agent\"\"\"\r\n",
        "\r\n",
        "import random\r\n",
        "from IPython.display import clear_output\r\n",
        "\r\n",
        "# Hyperparameters\r\n",
        "alpha = 0.1\r\n",
        "gamma = 0.6\r\n",
        "epsilon = 0.1\r\n",
        "\r\n",
        "# For plotting metrics\r\n",
        "all_epochs = []\r\n",
        "all_penalties = []\r\n",
        "\r\n",
        "for i in range(1, 100001):\r\n",
        "    state = env.reset()\r\n",
        "    epochs, penalties, reward, = 0, 0, 0\r\n",
        "    done = False\r\n",
        "    while not done:\r\n",
        "        if random.uniform(0, 1) < epsilon:\r\n",
        "            action = env.action_space.sample() # Explore action space\r\n",
        "        else:\r\n",
        "            action = np.argmax(q_table[state]) # Exploit learned values\r\n",
        "        next_state, reward, done, info = env.step(action) \r\n",
        "        old_value = q_table[state, action]\r\n",
        "        next_max = np.max(q_table[next_state])        \r\n",
        "        new_value = (1 - alpha) * old_value + alpha * (reward + gamma * next_max)\r\n",
        "        q_table[state, action] = new_value\r\n",
        "        if reward == -10:\r\n",
        "            penalties += 1\r\n",
        "        state = next_state\r\n",
        "        epochs += 1        \r\n",
        "    if i % 100 == 0:\r\n",
        "        clear_output(wait=True)\r\n",
        "        print(f\"Episode: {i}\")\r\n",
        "\r\n",
        "print(\"Training finished.\\n\")"
      ],
      "execution_count": 9,
      "outputs": [
        {
          "output_type": "stream",
          "text": [
            "Episode: 100000\n",
            "Training finished.\n",
            "\n",
            "CPU times: user 55.7 s, sys: 10.8 s, total: 1min 6s\n",
            "Wall time: 56.2 s\n"
          ],
          "name": "stdout"
        }
      ]
    },
    {
      "cell_type": "code",
      "metadata": {
        "colab": {
          "base_uri": "https://localhost:8080/"
        },
        "id": "Pyn6MS_5w6eR",
        "outputId": "d9197175-fbe3-4dc4-85ea-6ebfee3661cb"
      },
      "source": [
        "q_table[328]"
      ],
      "execution_count": 10,
      "outputs": [
        {
          "output_type": "execute_result",
          "data": {
            "text/plain": [
              "array([ -2.40285031,  -2.27325184,  -2.40326507,  -2.35827201,\n",
              "       -10.67258651, -10.86801988])"
            ]
          },
          "metadata": {
            "tags": []
          },
          "execution_count": 10
        }
      ]
    },
    {
      "cell_type": "code",
      "metadata": {
        "colab": {
          "base_uri": "https://localhost:8080/"
        },
        "id": "XMDDhMbdw8em",
        "outputId": "d164eb3e-1781-4f29-e612-6f14c461e0b3"
      },
      "source": [
        "\"\"\"Evaluate agent's performance after Q-learning\"\"\"\r\n",
        "\r\n",
        "total_epochs, total_penalties = 0, 0\r\n",
        "episodes = 100\r\n",
        "for _ in range(episodes):\r\n",
        "    state = env.reset()\r\n",
        "    epochs, penalties, reward = 0, 0, 0\r\n",
        "    done = False    \r\n",
        "    while not done:\r\n",
        "        action = np.argmax(q_table[state])\r\n",
        "        state, reward, done, info = env.step(action)\r\n",
        "        if reward == -10:\r\n",
        "            penalties += 1\r\n",
        "        epochs += 1\r\n",
        "    total_penalties += penalties\r\n",
        "    total_epochs += epochs\r\n",
        "\r\n",
        "print(f\"Results after {episodes} episodes:\")\r\n",
        "print(f\"Average timesteps per episode: {total_epochs / episodes}\")\r\n",
        "print(f\"Average penalties per episode: {total_penalties / episodes}\")"
      ],
      "execution_count": 11,
      "outputs": [
        {
          "output_type": "stream",
          "text": [
            "Results after 100 episodes:\n",
            "Average timesteps per episode: 13.38\n",
            "Average penalties per episode: 0.0\n"
          ],
          "name": "stdout"
        }
      ]
    }
  ]
}