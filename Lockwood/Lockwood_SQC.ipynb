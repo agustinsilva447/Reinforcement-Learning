{
  "nbformat": 4,
  "nbformat_minor": 0,
  "metadata": {
    "colab": {
      "name": "Lockwood-QRL.ipynb",
      "provenance": [],
      "collapsed_sections": []
    },
    "kernelspec": {
      "name": "python3",
      "display_name": "Python 3"
    }
  },
  "cells": [
    {
      "cell_type": "code",
      "metadata": {
        "id": "eMGr5aZ2xvpe"
      },
      "source": [
        "pip install tensorflow-quantum"
      ],
      "execution_count": null,
      "outputs": []
    },
    {
      "cell_type": "code",
      "metadata": {
        "id": "Xl7Unwx-xPh4"
      },
      "source": [
        "import tensorflow_quantum as tfq\n",
        "import tensorflow as tf\n",
        "import cirq\n",
        "import sympy\n",
        "import random\n",
        "import matplotlib.pyplot as plt\n",
        "import numpy as np"
      ],
      "execution_count": 2,
      "outputs": []
    },
    {
      "cell_type": "code",
      "metadata": {
        "id": "IckwE7e4xaPN"
      },
      "source": [
        "def make_data(n1, n2):\n",
        "    qubit = cirq.GridQubit(0,0)\n",
        "    train, test = [], []\n",
        "    train_label, test_label = [], []\n",
        "    for _ in range(n1):\n",
        "        cir = cirq.Circuit()\n",
        "        rot = random.uniform(0,0.1) if random.random() < 0.5 else random.uniform(0.9,1)\n",
        "        cir.append([cirq.X(qubit)**rot])\n",
        "        train.append(cir)\n",
        "        if rot < 0.5:\n",
        "            train_label.append(1)\n",
        "        else:\n",
        "            train_label.append(-1)\n",
        "    for _ in range(n2):\n",
        "        cir = cirq.Circuit()\n",
        "        rot = random.uniform(0,0.1) if random.random() < 0.5 else random.uniform(0.9,1)\n",
        "        cir.append([cirq.X(qubit)**rot])\n",
        "        test.append(cir)\n",
        "        if rot < 0.5:\n",
        "            test_label.append(1)\n",
        "        else:\n",
        "            test_label.append(-1)\n",
        "    return tfq.convert_to_tensor(train), np.array(train_label), tfq.convert_to_tensor(test), np.array(test_label)"
      ],
      "execution_count": 3,
      "outputs": []
    },
    {
      "cell_type": "code",
      "metadata": {
        "id": "nvfwSos_x7PZ"
      },
      "source": [
        "def make_circuit(qubit):\n",
        "    x = sympy.symbols('X_rot')\n",
        "    y = sympy.symbols('Y_rot')\n",
        "    z = sympy.symbols('Z_rot')\n",
        "    c = cirq.Circuit()\n",
        "    c.append(cirq.rx(x).on(qubit))\n",
        "    c.append(cirq.ry(y).on(qubit))\n",
        "    c.append(cirq.rz(z).on(qubit))\n",
        "    return c"
      ],
      "execution_count": 4,
      "outputs": []
    },
    {
      "cell_type": "code",
      "metadata": {
        "id": "-dNCRZvDx9hr"
      },
      "source": [
        "def hinge_accuracy(y_true, y_pred):\n",
        "    y_true = tf.squeeze(y_true) > 0.0\n",
        "    y_pred = tf.squeeze(y_pred) > 0.0\n",
        "    result = tf.cast(y_true == y_pred, tf.float32)\n",
        "\n",
        "    return tf.reduce_mean(result)"
      ],
      "execution_count": 5,
      "outputs": []
    },
    {
      "cell_type": "code",
      "metadata": {
        "colab": {
          "base_uri": "https://localhost:8080/"
        },
        "id": "44xjAD1tx-8Q",
        "outputId": "f1b5a35b-ad2d-4f32-fcc8-6a74ad10bd94"
      },
      "source": [
        "train, train_label, test, test_label = make_data(1000, 100)\n",
        "qubit = cirq.GridQubit(0,0)\n",
        "readout_operators = [cirq.X(qubit)]\n",
        "inputs = tf.keras.Input(shape=(), dtype=tf.dtypes.string)\n",
        "trial_circuit = make_circuit(qubit)\n",
        "print(trial_circuit)\n",
        "layer1 = tfq.layers.PQC(make_circuit(qubit), readout_operators, repetitions=32, differentiator=tfq.differentiators.ParameterShift(), initializer=tf.keras.initializers.Zeros)(inputs)\n",
        "model = tf.keras.models.Model(inputs=inputs, outputs=layer1)\n",
        "model.compile(optimizer=tf.keras.optimizers.Adam(lr=0.001), loss=tf.keras.losses.hinge, metrics=[hinge_accuracy])\n",
        "history = model.fit(train, train_label, epochs=64, batch_size=32, validation_data=(test, test_label))\n",
        "print(model.trainable_weights)"
      ],
      "execution_count": 6,
      "outputs": [
        {
          "output_type": "stream",
          "text": [
            "(0, 0): ───Rx(X_rot)───Ry(Y_rot)───Rz(Z_rot)───\n",
            "Epoch 1/64\n",
            "WARNING:tensorflow:From /usr/local/lib/python3.6/dist-packages/tensorflow/python/util/deprecation.py:574: calling map_fn_v2 (from tensorflow.python.ops.map_fn) with dtype is deprecated and will be removed in a future version.\n",
            "Instructions for updating:\n",
            "Use fn_output_signature instead\n",
            "32/32 [==============================] - 1s 20ms/step - loss: 0.9696 - hinge_accuracy: 0.4990 - val_loss: 0.9400 - val_hinge_accuracy: 0.4922\n",
            "Epoch 2/64\n",
            "32/32 [==============================] - 0s 15ms/step - loss: 0.9377 - hinge_accuracy: 0.4990 - val_loss: 0.9231 - val_hinge_accuracy: 0.7578\n",
            "Epoch 3/64\n",
            "32/32 [==============================] - 0s 12ms/step - loss: 0.8846 - hinge_accuracy: 0.9775 - val_loss: 0.8456 - val_hinge_accuracy: 1.0000\n",
            "Epoch 4/64\n",
            "32/32 [==============================] - 0s 16ms/step - loss: 0.8012 - hinge_accuracy: 1.0000 - val_loss: 0.7763 - val_hinge_accuracy: 1.0000\n",
            "Epoch 5/64\n",
            "32/32 [==============================] - 0s 15ms/step - loss: 0.7621 - hinge_accuracy: 1.0000 - val_loss: 0.7475 - val_hinge_accuracy: 1.0000\n",
            "Epoch 6/64\n",
            "32/32 [==============================] - 1s 16ms/step - loss: 0.7248 - hinge_accuracy: 1.0000 - val_loss: 0.7125 - val_hinge_accuracy: 1.0000\n",
            "Epoch 7/64\n",
            "32/32 [==============================] - 1s 16ms/step - loss: 0.7011 - hinge_accuracy: 1.0000 - val_loss: 0.6900 - val_hinge_accuracy: 1.0000\n",
            "Epoch 8/64\n",
            "32/32 [==============================] - 0s 16ms/step - loss: 0.6760 - hinge_accuracy: 1.0000 - val_loss: 0.6600 - val_hinge_accuracy: 1.0000\n",
            "Epoch 9/64\n",
            "32/32 [==============================] - 1s 16ms/step - loss: 0.6557 - hinge_accuracy: 1.0000 - val_loss: 0.6494 - val_hinge_accuracy: 1.0000\n",
            "Epoch 10/64\n",
            "32/32 [==============================] - 0s 15ms/step - loss: 0.6343 - hinge_accuracy: 1.0000 - val_loss: 0.6250 - val_hinge_accuracy: 1.0000\n",
            "Epoch 11/64\n",
            "32/32 [==============================] - 1s 17ms/step - loss: 0.6241 - hinge_accuracy: 1.0000 - val_loss: 0.6156 - val_hinge_accuracy: 1.0000\n",
            "Epoch 12/64\n",
            "32/32 [==============================] - 0s 15ms/step - loss: 0.5961 - hinge_accuracy: 1.0000 - val_loss: 0.5794 - val_hinge_accuracy: 1.0000\n",
            "Epoch 13/64\n",
            "32/32 [==============================] - 1s 16ms/step - loss: 0.5736 - hinge_accuracy: 1.0000 - val_loss: 0.5612 - val_hinge_accuracy: 1.0000\n",
            "Epoch 14/64\n",
            "32/32 [==============================] - 0s 13ms/step - loss: 0.5393 - hinge_accuracy: 1.0000 - val_loss: 0.5106 - val_hinge_accuracy: 1.0000\n",
            "Epoch 15/64\n",
            "32/32 [==============================] - 0s 15ms/step - loss: 0.4967 - hinge_accuracy: 1.0000 - val_loss: 0.4762 - val_hinge_accuracy: 1.0000\n",
            "Epoch 16/64\n",
            "32/32 [==============================] - 1s 16ms/step - loss: 0.4507 - hinge_accuracy: 1.0000 - val_loss: 0.4062 - val_hinge_accuracy: 1.0000\n",
            "Epoch 17/64\n",
            "32/32 [==============================] - 1s 16ms/step - loss: 0.3703 - hinge_accuracy: 1.0000 - val_loss: 0.3375 - val_hinge_accuracy: 1.0000\n",
            "Epoch 18/64\n",
            "32/32 [==============================] - 1s 16ms/step - loss: 0.3278 - hinge_accuracy: 1.0000 - val_loss: 0.3169 - val_hinge_accuracy: 1.0000\n",
            "Epoch 19/64\n",
            "32/32 [==============================] - 1s 16ms/step - loss: 0.2996 - hinge_accuracy: 1.0000 - val_loss: 0.2594 - val_hinge_accuracy: 1.0000\n",
            "Epoch 20/64\n",
            "32/32 [==============================] - 1s 16ms/step - loss: 0.2447 - hinge_accuracy: 1.0000 - val_loss: 0.2306 - val_hinge_accuracy: 1.0000\n",
            "Epoch 21/64\n",
            "32/32 [==============================] - 1s 16ms/step - loss: 0.2145 - hinge_accuracy: 1.0000 - val_loss: 0.1906 - val_hinge_accuracy: 1.0000\n",
            "Epoch 22/64\n",
            "32/32 [==============================] - 1s 16ms/step - loss: 0.1832 - hinge_accuracy: 1.0000 - val_loss: 0.1744 - val_hinge_accuracy: 1.0000\n",
            "Epoch 23/64\n",
            "32/32 [==============================] - 1s 16ms/step - loss: 0.1711 - hinge_accuracy: 1.0000 - val_loss: 0.1663 - val_hinge_accuracy: 1.0000\n",
            "Epoch 24/64\n",
            "32/32 [==============================] - 1s 16ms/step - loss: 0.1655 - hinge_accuracy: 1.0000 - val_loss: 0.1612 - val_hinge_accuracy: 1.0000\n",
            "Epoch 25/64\n",
            "32/32 [==============================] - 1s 17ms/step - loss: 0.1607 - hinge_accuracy: 1.0000 - val_loss: 0.1575 - val_hinge_accuracy: 1.0000\n",
            "Epoch 26/64\n",
            "32/32 [==============================] - 1s 16ms/step - loss: 0.1533 - hinge_accuracy: 1.0000 - val_loss: 0.1344 - val_hinge_accuracy: 1.0000\n",
            "Epoch 27/64\n",
            "32/32 [==============================] - 0s 16ms/step - loss: 0.1284 - hinge_accuracy: 1.0000 - val_loss: 0.1250 - val_hinge_accuracy: 1.0000\n",
            "Epoch 28/64\n",
            "32/32 [==============================] - 0s 15ms/step - loss: 0.1250 - hinge_accuracy: 1.0000 - val_loss: 0.1250 - val_hinge_accuracy: 1.0000\n",
            "Epoch 29/64\n",
            "32/32 [==============================] - 0s 14ms/step - loss: 0.1250 - hinge_accuracy: 1.0000 - val_loss: 0.1250 - val_hinge_accuracy: 1.0000\n",
            "Epoch 30/64\n",
            "32/32 [==============================] - 0s 15ms/step - loss: 0.1250 - hinge_accuracy: 1.0000 - val_loss: 0.1250 - val_hinge_accuracy: 1.0000\n",
            "Epoch 31/64\n",
            "32/32 [==============================] - 1s 16ms/step - loss: 0.1250 - hinge_accuracy: 1.0000 - val_loss: 0.1250 - val_hinge_accuracy: 1.0000\n",
            "Epoch 32/64\n",
            "32/32 [==============================] - 0s 15ms/step - loss: 0.1250 - hinge_accuracy: 1.0000 - val_loss: 0.1250 - val_hinge_accuracy: 1.0000\n",
            "Epoch 33/64\n",
            "32/32 [==============================] - 1s 16ms/step - loss: 0.1221 - hinge_accuracy: 1.0000 - val_loss: 0.1194 - val_hinge_accuracy: 1.0000\n",
            "Epoch 34/64\n",
            "32/32 [==============================] - 0s 15ms/step - loss: 0.1157 - hinge_accuracy: 1.0000 - val_loss: 0.1025 - val_hinge_accuracy: 1.0000\n",
            "Epoch 35/64\n",
            "32/32 [==============================] - 1s 16ms/step - loss: 0.0961 - hinge_accuracy: 1.0000 - val_loss: 0.0894 - val_hinge_accuracy: 1.0000\n",
            "Epoch 36/64\n",
            "32/32 [==============================] - 1s 16ms/step - loss: 0.0877 - hinge_accuracy: 1.0000 - val_loss: 0.0838 - val_hinge_accuracy: 1.0000\n",
            "Epoch 37/64\n",
            "32/32 [==============================] - 1s 16ms/step - loss: 0.0834 - hinge_accuracy: 1.0000 - val_loss: 0.0800 - val_hinge_accuracy: 1.0000\n",
            "Epoch 38/64\n",
            "32/32 [==============================] - 1s 16ms/step - loss: 0.0796 - hinge_accuracy: 1.0000 - val_loss: 0.0775 - val_hinge_accuracy: 1.0000\n",
            "Epoch 39/64\n",
            "32/32 [==============================] - 1s 17ms/step - loss: 0.0657 - hinge_accuracy: 1.0000 - val_loss: 0.0606 - val_hinge_accuracy: 1.0000\n",
            "Epoch 40/64\n",
            "32/32 [==============================] - 1s 16ms/step - loss: 0.0555 - hinge_accuracy: 1.0000 - val_loss: 0.0481 - val_hinge_accuracy: 1.0000\n",
            "Epoch 41/64\n",
            "32/32 [==============================] - 0s 15ms/step - loss: 0.0486 - hinge_accuracy: 1.0000 - val_loss: 0.0425 - val_hinge_accuracy: 1.0000\n",
            "Epoch 42/64\n",
            "32/32 [==============================] - 1s 18ms/step - loss: 0.0439 - hinge_accuracy: 1.0000 - val_loss: 0.0400 - val_hinge_accuracy: 1.0000\n",
            "Epoch 43/64\n",
            "32/32 [==============================] - 0s 15ms/step - loss: 0.0397 - hinge_accuracy: 1.0000 - val_loss: 0.0344 - val_hinge_accuracy: 1.0000\n",
            "Epoch 44/64\n",
            "32/32 [==============================] - 1s 17ms/step - loss: 0.0358 - hinge_accuracy: 1.0000 - val_loss: 0.0319 - val_hinge_accuracy: 1.0000\n",
            "Epoch 45/64\n",
            "32/32 [==============================] - 0s 15ms/step - loss: 0.0328 - hinge_accuracy: 1.0000 - val_loss: 0.0288 - val_hinge_accuracy: 1.0000\n",
            "Epoch 46/64\n",
            "32/32 [==============================] - 1s 17ms/step - loss: 0.0302 - hinge_accuracy: 1.0000 - val_loss: 0.0256 - val_hinge_accuracy: 1.0000\n",
            "Epoch 47/64\n",
            "32/32 [==============================] - 1s 16ms/step - loss: 0.0279 - hinge_accuracy: 1.0000 - val_loss: 0.0244 - val_hinge_accuracy: 1.0000\n",
            "Epoch 48/64\n",
            "32/32 [==============================] - 1s 16ms/step - loss: 0.0264 - hinge_accuracy: 1.0000 - val_loss: 0.0225 - val_hinge_accuracy: 1.0000\n",
            "Epoch 49/64\n",
            "32/32 [==============================] - 1s 16ms/step - loss: 0.0250 - hinge_accuracy: 1.0000 - val_loss: 0.0206 - val_hinge_accuracy: 1.0000\n",
            "Epoch 50/64\n",
            "32/32 [==============================] - 1s 16ms/step - loss: 0.0234 - hinge_accuracy: 1.0000 - val_loss: 0.0194 - val_hinge_accuracy: 1.0000\n",
            "Epoch 51/64\n",
            "32/32 [==============================] - 1s 17ms/step - loss: 0.0219 - hinge_accuracy: 1.0000 - val_loss: 0.0181 - val_hinge_accuracy: 1.0000\n",
            "Epoch 52/64\n",
            "32/32 [==============================] - 1s 16ms/step - loss: 0.0209 - hinge_accuracy: 1.0000 - val_loss: 0.0169 - val_hinge_accuracy: 1.0000\n",
            "Epoch 53/64\n",
            "32/32 [==============================] - 1s 16ms/step - loss: 0.0201 - hinge_accuracy: 1.0000 - val_loss: 0.0169 - val_hinge_accuracy: 1.0000\n",
            "Epoch 54/64\n",
            "32/32 [==============================] - 1s 16ms/step - loss: 0.0194 - hinge_accuracy: 1.0000 - val_loss: 0.0162 - val_hinge_accuracy: 1.0000\n",
            "Epoch 55/64\n",
            "32/32 [==============================] - 1s 17ms/step - loss: 0.0189 - hinge_accuracy: 1.0000 - val_loss: 0.0162 - val_hinge_accuracy: 1.0000\n",
            "Epoch 56/64\n",
            "32/32 [==============================] - 0s 14ms/step - loss: 0.0186 - hinge_accuracy: 1.0000 - val_loss: 0.0162 - val_hinge_accuracy: 1.0000\n",
            "Epoch 57/64\n",
            "32/32 [==============================] - 1s 17ms/step - loss: 0.0185 - hinge_accuracy: 1.0000 - val_loss: 0.0156 - val_hinge_accuracy: 1.0000\n",
            "Epoch 58/64\n",
            "32/32 [==============================] - 1s 17ms/step - loss: 0.0182 - hinge_accuracy: 1.0000 - val_loss: 0.0156 - val_hinge_accuracy: 1.0000\n",
            "Epoch 59/64\n",
            "32/32 [==============================] - 1s 17ms/step - loss: 0.0180 - hinge_accuracy: 1.0000 - val_loss: 0.0150 - val_hinge_accuracy: 1.0000\n",
            "Epoch 60/64\n",
            "32/32 [==============================] - 1s 16ms/step - loss: 0.0179 - hinge_accuracy: 1.0000 - val_loss: 0.0150 - val_hinge_accuracy: 1.0000\n",
            "Epoch 61/64\n",
            "32/32 [==============================] - 1s 16ms/step - loss: 0.0178 - hinge_accuracy: 1.0000 - val_loss: 0.0150 - val_hinge_accuracy: 1.0000\n",
            "Epoch 62/64\n",
            "32/32 [==============================] - 1s 17ms/step - loss: 0.0175 - hinge_accuracy: 1.0000 - val_loss: 0.0162 - val_hinge_accuracy: 1.0000\n",
            "Epoch 63/64\n",
            "32/32 [==============================] - 1s 16ms/step - loss: 0.0175 - hinge_accuracy: 1.0000 - val_loss: 0.0156 - val_hinge_accuracy: 1.0000\n",
            "Epoch 64/64\n",
            "32/32 [==============================] - 1s 16ms/step - loss: 0.0176 - hinge_accuracy: 1.0000 - val_loss: 0.0162 - val_hinge_accuracy: 1.0000\n",
            "[<tf.Variable 'parameters:0' shape=(3,) dtype=float32, numpy=array([-1.5289516,  0.7375378, -1.5266601], dtype=float32)>]\n"
          ],
          "name": "stdout"
        }
      ]
    },
    {
      "cell_type": "code",
      "metadata": {
        "colab": {
          "base_uri": "https://localhost:8080/",
          "height": 295
        },
        "id": "nasC1GVJyQ6d",
        "outputId": "7edee97e-6584-420d-b36e-c51181cce39e"
      },
      "source": [
        "plt.plot(history.history['loss'], label='Training')\n",
        "plt.plot(history.history['val_loss'], label='Validation Loss')\n",
        "plt.legend()\n",
        "plt.title(\"Training Loss\")\n",
        "plt.xlabel(\"Epochs\")\n",
        "plt.ylabel(\"Hinge Loss\")\n",
        "plt.show()"
      ],
      "execution_count": 7,
      "outputs": [
        {
          "output_type": "display_data",
          "data": {
            "image/png": "[encoded data removed]",
            "text/plain": [
              "<Figure size 432x288 with 1 Axes>"
            ]
          },
          "metadata": {
            "tags": [],
            "needs_background": "light"
          }
        }
      ]
    },
    {
      "cell_type": "code",
      "metadata": {
        "colab": {
          "base_uri": "https://localhost:8080/",
          "height": 295
        },
        "id": "Kyjz5LVwyRPA",
        "outputId": "c58b82ff-e3fa-4423-b7ff-1d31dda9774f"
      },
      "source": [
        "plt.plot(history.history['hinge_accuracy'], label='Training')\n",
        "plt.plot(history.history['val_hinge_accuracy'], label='Validation Acc')\n",
        "plt.legend()\n",
        "plt.title(\"Training Acc\")\n",
        "plt.xlabel(\"Epochs\")\n",
        "plt.ylabel(\"Accuracy\")\n",
        "plt.show()"
      ],
      "execution_count": 8,
      "outputs": [
        {
          "output_type": "display_data",
          "data": {
            "image/png": "[encoded data removed]",
            "text/plain": [
              "<Figure size 432x288 with 1 Axes>"
            ]
          },
          "metadata": {
            "tags": [],
            "needs_background": "light"
          }
        }
      ]
    },
    {
      "cell_type": "code",
      "metadata": {
        "id": "jGLpdP20yTPv"
      },
      "source": [
        ""
      ],
      "execution_count": null,
      "outputs": []
    }
  ]
}