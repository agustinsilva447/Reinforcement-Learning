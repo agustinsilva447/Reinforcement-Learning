{
  "nbformat": 4,
  "nbformat_minor": 0,
  "metadata": {
    "colab": {
      "name": "perf_vs_fide.ipynb",
      "provenance": [],
      "collapsed_sections": []
    },
    "kernelspec": {
      "name": "python3",
      "display_name": "Python 3"
    },
    "language_info": {
      "name": "python"
    }
  },
  "cells": [
    {
      "cell_type": "code",
      "execution_count": 1,
      "metadata": {
        "colab": {
          "base_uri": "https://localhost:8080/"
        },
        "id": "9vLmwXCwrrI8",
        "outputId": "da80dd31-3d83-456e-85c8-c229730dbaa8"
      },
      "outputs": [
        {
          "output_type": "stream",
          "name": "stdout",
          "text": [
            "Requirement already satisfied: qiskit in /usr/local/lib/python3.7/dist-packages (0.34.2)\n",
            "Requirement already satisfied: qiskit-terra==0.19.2 in /usr/local/lib/python3.7/dist-packages (from qiskit) (0.19.2)\n",
            "Requirement already satisfied: qiskit-ibmq-provider==0.18.3 in /usr/local/lib/python3.7/dist-packages (from qiskit) (0.18.3)\n",
            "Requirement already satisfied: qiskit-ignis==0.7.0 in /usr/local/lib/python3.7/dist-packages (from qiskit) (0.7.0)\n",
            "Requirement already satisfied: qiskit-aer==0.10.3 in /usr/local/lib/python3.7/dist-packages (from qiskit) (0.10.3)\n",
            "Requirement already satisfied: numpy>=1.16.3 in /usr/local/lib/python3.7/dist-packages (from qiskit-aer==0.10.3->qiskit) (1.21.5)\n",
            "Requirement already satisfied: scipy>=1.0 in /usr/local/lib/python3.7/dist-packages (from qiskit-aer==0.10.3->qiskit) (1.7.3)\n",
            "Requirement already satisfied: requests>=2.19 in /usr/local/lib/python3.7/dist-packages (from qiskit-ibmq-provider==0.18.3->qiskit) (2.23.0)\n",
            "Requirement already satisfied: requests-ntlm>=1.1.0 in /usr/local/lib/python3.7/dist-packages (from qiskit-ibmq-provider==0.18.3->qiskit) (1.1.0)\n",
            "Requirement already satisfied: websocket-client>=1.0.1 in /usr/local/lib/python3.7/dist-packages (from qiskit-ibmq-provider==0.18.3->qiskit) (1.3.1)\n",
            "Requirement already satisfied: urllib3>=1.21.1 in /usr/local/lib/python3.7/dist-packages (from qiskit-ibmq-provider==0.18.3->qiskit) (1.24.3)\n",
            "Requirement already satisfied: python-dateutil>=2.8.0 in /usr/local/lib/python3.7/dist-packages (from qiskit-ibmq-provider==0.18.3->qiskit) (2.8.2)\n",
            "Requirement already satisfied: retworkx>=0.8.0 in /usr/local/lib/python3.7/dist-packages (from qiskit-ignis==0.7.0->qiskit) (0.11.0)\n",
            "Requirement already satisfied: setuptools>=40.1.0 in /usr/local/lib/python3.7/dist-packages (from qiskit-ignis==0.7.0->qiskit) (57.4.0)\n",
            "Requirement already satisfied: sympy>=1.3 in /usr/local/lib/python3.7/dist-packages (from qiskit-terra==0.19.2->qiskit) (1.7.1)\n",
            "Requirement already satisfied: stevedore>=3.0.0 in /usr/local/lib/python3.7/dist-packages (from qiskit-terra==0.19.2->qiskit) (3.5.0)\n",
            "Requirement already satisfied: ply>=3.10 in /usr/local/lib/python3.7/dist-packages (from qiskit-terra==0.19.2->qiskit) (3.11)\n",
            "Requirement already satisfied: tweedledum<2.0,>=1.1 in /usr/local/lib/python3.7/dist-packages (from qiskit-terra==0.19.2->qiskit) (1.1.1)\n",
            "Requirement already satisfied: dill>=0.3 in /usr/local/lib/python3.7/dist-packages (from qiskit-terra==0.19.2->qiskit) (0.3.4)\n",
            "Requirement already satisfied: psutil>=5 in /usr/local/lib/python3.7/dist-packages (from qiskit-terra==0.19.2->qiskit) (5.4.8)\n",
            "Requirement already satisfied: symengine>=0.8 in /usr/local/lib/python3.7/dist-packages (from qiskit-terra==0.19.2->qiskit) (0.9.2)\n",
            "Requirement already satisfied: python-constraint>=1.4 in /usr/local/lib/python3.7/dist-packages (from qiskit-terra==0.19.2->qiskit) (1.4.0)\n",
            "Requirement already satisfied: six>=1.5 in /usr/local/lib/python3.7/dist-packages (from python-dateutil>=2.8.0->qiskit-ibmq-provider==0.18.3->qiskit) (1.15.0)\n",
            "Requirement already satisfied: idna<3,>=2.5 in /usr/local/lib/python3.7/dist-packages (from requests>=2.19->qiskit-ibmq-provider==0.18.3->qiskit) (2.10)\n",
            "Requirement already satisfied: chardet<4,>=3.0.2 in /usr/local/lib/python3.7/dist-packages (from requests>=2.19->qiskit-ibmq-provider==0.18.3->qiskit) (3.0.4)\n",
            "Requirement already satisfied: certifi>=2017.4.17 in /usr/local/lib/python3.7/dist-packages (from requests>=2.19->qiskit-ibmq-provider==0.18.3->qiskit) (2021.10.8)\n",
            "Requirement already satisfied: ntlm-auth>=1.0.2 in /usr/local/lib/python3.7/dist-packages (from requests-ntlm>=1.1.0->qiskit-ibmq-provider==0.18.3->qiskit) (1.5.0)\n",
            "Requirement already satisfied: cryptography>=1.3 in /usr/local/lib/python3.7/dist-packages (from requests-ntlm>=1.1.0->qiskit-ibmq-provider==0.18.3->qiskit) (36.0.1)\n",
            "Requirement already satisfied: cffi>=1.12 in /usr/local/lib/python3.7/dist-packages (from cryptography>=1.3->requests-ntlm>=1.1.0->qiskit-ibmq-provider==0.18.3->qiskit) (1.15.0)\n",
            "Requirement already satisfied: pycparser in /usr/local/lib/python3.7/dist-packages (from cffi>=1.12->cryptography>=1.3->requests-ntlm>=1.1.0->qiskit-ibmq-provider==0.18.3->qiskit) (2.21)\n",
            "Requirement already satisfied: pbr!=2.1.0,>=2.0.0 in /usr/local/lib/python3.7/dist-packages (from stevedore>=3.0.0->qiskit-terra==0.19.2->qiskit) (5.8.1)\n",
            "Requirement already satisfied: importlib-metadata>=1.7.0 in /usr/local/lib/python3.7/dist-packages (from stevedore>=3.0.0->qiskit-terra==0.19.2->qiskit) (4.11.2)\n",
            "Requirement already satisfied: typing-extensions>=3.6.4 in /usr/local/lib/python3.7/dist-packages (from importlib-metadata>=1.7.0->stevedore>=3.0.0->qiskit-terra==0.19.2->qiskit) (3.10.0.2)\n",
            "Requirement already satisfied: zipp>=0.5 in /usr/local/lib/python3.7/dist-packages (from importlib-metadata>=1.7.0->stevedore>=3.0.0->qiskit-terra==0.19.2->qiskit) (3.7.0)\n",
            "Requirement already satisfied: mpmath>=0.19 in /usr/local/lib/python3.7/dist-packages (from sympy>=1.3->qiskit-terra==0.19.2->qiskit) (1.2.1)\n"
          ]
        }
      ],
      "source": [
        "! pip install qiskit"
      ]
    },
    {
      "cell_type": "code",
      "source": [
        "import numpy as np\n",
        "import networkx as nx\n",
        "import matplotlib.pyplot as plt\n",
        "import copy\n",
        "from tqdm import trange\n",
        "\n",
        "from qiskit import QuantumCircuit, Aer\n",
        "from qiskit.quantum_info import Operator\n",
        "from qiskit.extensions import RXGate, RYGate, RZGate    \n",
        "from qiskit.quantum_info.states.measures import state_fidelity"
      ],
      "metadata": {
        "id": "4cfOpFKtrwY2"
      },
      "execution_count": 2,
      "outputs": []
    },
    {
      "cell_type": "code",
      "source": [
        "def generar_mapa(n1, n3):\n",
        "    a = 0\n",
        "    while (np.linalg.matrix_rank(a)!=n1):\n",
        "        a = n3 * np.random.rand(n1,n1)\n",
        "        np.fill_diagonal(a,0)\n",
        "        a = np.tril(a) + np.tril(a, -1).T\n",
        "    return a\n",
        "\n",
        "def generar_red(a):\n",
        "    net1 = nx.from_numpy_matrix(copy.deepcopy(a))\n",
        "    for e in net1.edges():\n",
        "        net1[e[0]][e[1]]['color'] = 'black'\n",
        "    edge_weights_list = [net1[e[0]][e[1]]['weight'] for e in net1.edges()]\n",
        "    return net1, edge_weights_list\n",
        "\n",
        "def generar_paquetes(n1,n2):\n",
        "    moves = np.zeros([n2, 2])    \n",
        "    rng = np.random.default_rng()\n",
        "    for i in range(n2):\n",
        "        moves[i,:] = rng.choice(n1, size=2, replace=False)    \n",
        "    colores = []\n",
        "    for i in range(n2):\n",
        "        color = np.base_repr(np.random.choice(16777215), base=16)\n",
        "        colores.append('#{:0>6}'.format(color))    \n",
        "    return moves, colores\n",
        "\n",
        "def caminos(net1, moves):\n",
        "    caminitos = []\n",
        "    i = 0\n",
        "    for j in range(len(moves)):\n",
        "        cam = []\n",
        "        try:\n",
        "            p = nx.dijkstra_path(net1,int(moves[j,0]),int(moves[j,1]))\n",
        "            for e in range(len(p)-1):\n",
        "                cam.append(tuple(sorted((p[e], p[e+1]))))    \n",
        "        except:\n",
        "            i += 1\n",
        "            if i == len(moves):\n",
        "                return caminitos, True        \n",
        "        caminitos.append(cam)\n",
        "    return caminitos, False\n",
        "\n",
        "def paquetes_en_ruta(camin, ruta, n2):\n",
        "    lista = []\n",
        "    for i in range(n2):\n",
        "        if ruta in camin[i]:\n",
        "            lista.append(i)\n",
        "    return lista\n",
        "\n",
        "def state_out_new_p(x,y,z):\n",
        "    # all these were calculated with sympy in order to speed computing time\n",
        "    sqrt_2 = np.sqrt(2)\n",
        "    cos_x = np.cos(x/2)\n",
        "    sin_x = np.sin(x/2)\n",
        "    cos_y = np.cos(y/2)\n",
        "    sin_y = np.sin(y/2)\n",
        "    exp_z = np.exp(1j*z)\n",
        "    exp_m = np.exp(-1j*z)\n",
        "\n",
        "    s_0 = sqrt_2/2*(-sqrt_2/2*1j*exp_z*sin_y**2 + sqrt_2/2*exp_m*cos_y**2)*cos_x**2 - sqrt_2/2*(-sqrt_2/2*1j*exp_z*cos_y**2 + sqrt_2/2*exp_m*sin_y**2)*sin_x**2 - sqrt_2*1j*(-sqrt_2/2*1j*exp_z*sin_y*cos_y - sqrt_2/2*exp_m*sin_y*cos_y)*sin_x*cos_x + sqrt_2/2*1j*(-(-sqrt_2/2*1j*exp_z*sin_y**2 + sqrt_2/2*exp_m*cos_y**2)*sin_x**2 + (-sqrt_2/2*1j*exp_z*cos_y**2 + sqrt_2/2*exp_m*sin_y**2)*cos_x**2 - 2*1j*(-sqrt_2/2*1j*exp_z*sin_y*cos_y - sqrt_2/2*exp_m*sin_y*cos_y)*sin_x*cos_x)\n",
        "    s_1 = -sqrt_2/2*1j*(sqrt_2/2*1j*sin_y**2 + sqrt_2/2*cos_y**2)*sin_x*cos_x - sqrt_2/2*(-sqrt_2/2*sin_y*cos_y + sqrt_2/2*1j*sin_y*cos_y)*sin_x**2 + sqrt_2/2*(sqrt_2/2*sin_y*cos_y - sqrt_2/2*1j*sin_y*cos_y)*cos_x**2 - sqrt_2/2*1j*(-sqrt_2/2*sin_y**2 - sqrt_2/2*1j*cos_y**2)*sin_x*cos_x + sqrt_2/2*1j*(-1j*(sqrt_2/2*1j*sin_y**2 + sqrt_2/2*cos_y**2)*sin_x*cos_x + (-sqrt_2/2*sin_y*cos_y + sqrt_2/2*1j*sin_y*cos_y)*cos_x**2 - (sqrt_2/2*sin_y*cos_y - sqrt_2/2*1j*sin_y*cos_y)*sin_x**2 - 1j*(-sqrt_2/2*sin_y**2 - sqrt_2/2*1j*cos_y**2)*sin_x*cos_x)\n",
        "    s_2 = -sqrt_2/2*1j*(sqrt_2/2*1j*sin_y**2 + sqrt_2/2*cos_y**2)*sin_x*cos_x - sqrt_2/2*(-sqrt_2/2*sin_y*cos_y + sqrt_2/2*1j*sin_y*cos_y)*sin_x**2 + sqrt_2/2*(sqrt_2/2*sin_y*cos_y - sqrt_2/2*1j*sin_y*cos_y)*cos_x**2 - sqrt_2/2*1j*(-sqrt_2/2*sin_y**2 - sqrt_2/2*1j*cos_y**2)*sin_x*cos_x + sqrt_2/2*1j*(-1j*(sqrt_2/2*1j*sin_y**2 + sqrt_2/2*cos_y**2)*sin_x*cos_x + (-sqrt_2/2*sin_y*cos_y + sqrt_2/2*1j*sin_y*cos_y)*cos_x**2 - (sqrt_2/2*sin_y*cos_y - sqrt_2/2*1j*sin_y*cos_y)*sin_x**2 - 1j*(-sqrt_2/2*sin_y**2 - sqrt_2/2*1j*cos_y**2)*sin_x*cos_x)\n",
        "    s_3 = sqrt_2/2*(sqrt_2/2*exp_z*sin_y**2 - sqrt_2/2*1j*exp_m*cos_y**2)*cos_x**2 - sqrt_2/2*(sqrt_2/2*exp_z*cos_y**2 - sqrt_2/2*1j*exp_m*sin_y**2)*sin_x**2 - sqrt_2*1j*(sqrt_2/2*exp_z*sin_y*cos_y + sqrt_2/2*1j*exp_m*sin_y*cos_y)*sin_x*cos_x + sqrt_2/2*1j*(-(sqrt_2/2*exp_z*sin_y**2 - sqrt_2/2*1j*exp_m*cos_y**2)*sin_x**2 + (sqrt_2/2*exp_z*cos_y**2 - sqrt_2/2*1j*exp_m*sin_y**2)*cos_x**2 - 2*1j*(sqrt_2/2*exp_z*sin_y*cos_y + sqrt_2/2*1j*exp_m*sin_y*cos_y)*sin_x*cos_x)\n",
        "    p_new = np.round(np.array([s_0, s_1, s_2, s_3]).reshape(1,4),5)\n",
        "    p_new = np.abs(p_new)**2\n",
        "    return (p_new)/(np.sum(p_new))\n",
        "\n",
        "def state_out_new(n, tipo):\n",
        "    if n==1:\n",
        "        a = {'1': 1}\n",
        "        return a\n",
        "    elif n == 2:\n",
        "        a0 = {'00': 1}\n",
        "        a1 = {'01': 1}\n",
        "        a2 = {'10': 1}\n",
        "        a3 = {'11': 1}\n",
        "        x = [a0, a1, a2, a3]\n",
        "        p_new = state_out_new_p(tipo[0], tipo[1], tipo[2])[0]\n",
        "        return np.random.choice(x, p = [p_new[0], p_new[1], p_new[2], p_new[3]])\n",
        "\n",
        "def juego(lista, tipo):\n",
        "    m = len(lista)\n",
        "    if m > 0:\n",
        "        for r in range(int(np.ceil(np.log2(m)))):\n",
        "            ganadores = []            \n",
        "            for j in range(int(np.ceil(m/2))):\n",
        "                jug = 2 - int(m == j+int(np.ceil(m/2)))                        \n",
        "                measurement = state_out_new(jug, tipo)\n",
        "                for k,i in enumerate(list(measurement.keys())[0]):\n",
        "                    if i=='1':\n",
        "                        ganadores.append(lista[2*j + k])                    \n",
        "            lista = ganadores   \n",
        "            m = len(lista)         \n",
        "    return lista\n",
        "\n",
        "def output_state(dx,dy,dz):\n",
        "    I = np.array([[1, 0],\n",
        "                [0, 1]])\n",
        "    X = np.array([[0, 1],\n",
        "                [1, 0]])    \n",
        "    I_f = np.kron(I, I)\n",
        "    X_f = np.kron(X, X)\n",
        "    J = Operator(1 / np.sqrt(2) * (I_f + 1j * X_f))    \n",
        "    J_dg = J.adjoint()\n",
        "    circ = QuantumCircuit(2,2)\n",
        "    circ.append(J, range(2))\n",
        "    for q in range(2):\n",
        "        circ.append(RXGate(dx),[q])\n",
        "        circ.append(RYGate(dy),[q])\n",
        "        circ.append(RZGate(dz),[q])    \n",
        "    circ.append(J_dg, range(2))\n",
        "    backend = Aer.get_backend('statevector_simulator')\n",
        "    job = backend.run(circ)\n",
        "    result = job.result()\n",
        "    outputstate = result.get_statevector(circ, decimals=5)\n",
        "    return outputstate\n",
        "\n",
        "def checkear_nozero(rx,ry,rz):\n",
        "    outputstate = output_state(rx,ry,rz)\n",
        "    target_state = [0, np.sqrt(2)/2, np.sqrt(2)/2, 0]\n",
        "    fidelity = state_fidelity(outputstate, target_state)\n",
        "    return (np.abs(outputstate[0]) > 0.99), fidelity\n",
        "\n",
        "def reward_qnet(rx, ry, rz, n3, tests):    \n",
        "\n",
        "    zero_check, fidelity = checkear_nozero(rx,ry,rz)\n",
        "    if  zero_check == 1:\n",
        "        return [-200, fidelity]\n",
        "\n",
        "    n1 = 10                                       # cantidad de ciudades\n",
        "    n2 = 100                                      # cantidad de paquetes\n",
        "    p1 = [rx, ry, rz, 1]\n",
        "\n",
        "    t_routing = 0\n",
        "    t_traveling = 0\n",
        "\n",
        "    for p in range(tests):\n",
        "      a = generar_mapa(n1, n3)                      # genero matriz\n",
        "      net1, edge_weights_list = generar_red(a)      # genero red\n",
        "      net2, edge_weights_list = generar_red(a)      # genero copia de red\n",
        "      moves, colores = generar_paquetes(n1,n2)      # genero paquetes\n",
        "      caminitos, flag = caminos(net1, moves)        # caminos óptimos\n",
        "      all_edges2 = [e for e in net2.edges]\n",
        "      veces = np.zeros(len(all_edges2))\n",
        "\n",
        "      i = 0\n",
        "      t1 = 0\n",
        "      tiemp = 0\n",
        "      envio = 0\n",
        "\n",
        "      while not flag:\n",
        "          t1 += 1\n",
        "          all_edges = [e for e in net1.edges]\n",
        "          paquetes_ruta = paquetes_en_ruta(caminitos, all_edges[i], n2)\n",
        "          if paquetes_ruta == []:\n",
        "              t1 -= 1  \n",
        "              i += 1\n",
        "          else:\n",
        "              i = 0\n",
        "              ganadores = juego(paquetes_ruta, p1)\n",
        "              for x in range(len(ganadores)):\n",
        "                  moves[ganadores[x]] = [-1,-2]\n",
        "                  for y in caminitos[ganadores[x]]:\n",
        "                      veces[np.where((np.array(all_edges2) == y).all(axis=1))[0][0]] += 1\n",
        "                      tiemp += (2 * veces[np.where((np.array(all_edges2) == y).all(axis=1))[0][0]] - 1) * net2[y[0]][y[1]]['weight']\n",
        "                      net1.remove_edges_from([y])\n",
        "                      net2[y[0]][y[1]]['color'] = colores[envio]\n",
        "                  envio += 1\n",
        "              caminitos, flag = caminos(net1, moves)\n",
        "      try:\n",
        "          temp = tiemp/envio    #tiempo de envío por paquete \n",
        "      except ZeroDivisionError:\n",
        "          temp = 2*n3  \n",
        "\n",
        "      t_routing += t1  \n",
        "      t_traveling += temp\n",
        "\n",
        "    t_total = (t_routing + t_traveling) / tests\n",
        "    return [-t_total, fidelity]"
      ],
      "metadata": {
        "id": "cFfHaDikrz2g"
      },
      "execution_count": 3,
      "outputs": []
    },
    {
      "cell_type": "code",
      "source": [
        "time = 1000\n",
        "runs = 1\n",
        "n3 = [[14],\n",
        "      [0, time],\n",
        "      [37.4592]]\n",
        "prf = np.zeros((time))\n",
        "flt = np.zeros((time))\n",
        "\n",
        "tipo = 0\n",
        "for t in trange(time):\n",
        "  if t >= n3[1][tipo+1]:\n",
        "      tipo += 1     \n",
        "  rotat = np.random.uniform(0,2*np.pi,3)   \n",
        "  output = np.array(output_state(rotat[0], rotat[1], rotat[2]))\n",
        "  [rwd, flt[t]] = reward_qnet(rotat[0],rotat[1],rotat[2], n3[0][tipo], runs)\n",
        "  prf[t] = -n3[2][tipo] / rwd"
      ],
      "metadata": {
        "colab": {
          "base_uri": "https://localhost:8080/"
        },
        "id": "fTjbRbkir3bM",
        "outputId": "d6feb1b7-e26a-4359-d85c-d5eb76e4302e"
      },
      "execution_count": 4,
      "outputs": [
        {
          "output_type": "stream",
          "name": "stderr",
          "text": [
            "100%|██████████| 1000/1000 [05:00<00:00,  3.33it/s]\n"
          ]
        }
      ]
    },
    {
      "cell_type": "code",
      "source": [
        "fig = plt.figure(figsize=(10,10))\n",
        "plt.title(\"Performance vs Fidelity\")\n",
        "plt.xlabel(\"Fidelity\")\n",
        "plt.ylabel(\"Performance\")\n",
        "plt.plot(flt,prf,'.')\n",
        "plt.show()"
      ],
      "metadata": {
        "id": "aWV9IqqizLa2",
        "colab": {
          "base_uri": "https://localhost:8080/",
          "height": 621
        },
        "outputId": "04a67ccb-78fb-4f54-fb70-78086425f3dd"
      },
      "execution_count": 5,
      "outputs": [
        {
          "output_type": "display_data",
          "data": {
            "text/plain": [
              "<Figure size 720x720 with 1 Axes>"
            ],
            "image/png": "[encoded data removed]"
          },
          "metadata": {
            "needs_background": "light"
          }
        }
      ]
    }
  ]
}