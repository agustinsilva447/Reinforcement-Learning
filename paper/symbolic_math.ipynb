{
 "cells": [
  {
   "cell_type": "code",
   "execution_count": 1,
   "id": "a524f57b",
   "metadata": {},
   "outputs": [],
   "source": [
    "import sympy as sym\n",
    "import numpy as np"
   ]
  },
  {
   "cell_type": "code",
   "execution_count": 12,
   "id": "8111fb9b",
   "metadata": {
    "collapsed": true
   },
   "outputs": [
    {
     "name": "stdout",
     "output_type": "stream",
     "text": [
      "[[0.707106781186547*(-0.707106781186547*I*exp(I*y)*sin(y/2)**2 + 0.707106781186547*exp(-I*y)*cos(y/2)**2)*cos(x/2)**2 - 0.707106781186547*(-0.707106781186547*I*exp(I*y)*cos(y/2)**2 + 0.707106781186547*exp(-I*y)*sin(y/2)**2)*sin(x/2)**2 - 1.41421356237309*I*(-0.707106781186547*I*exp(I*y)*sin(y/2)*cos(y/2) - 0.707106781186547*exp(-I*y)*sin(y/2)*cos(y/2))*sin(x/2)*cos(x/2) + 0.707106781186547*I*(-(-0.707106781186547*I*exp(I*y)*sin(y/2)**2 + 0.707106781186547*exp(-I*y)*cos(y/2)**2)*sin(x/2)**2 + (-0.707106781186547*I*exp(I*y)*cos(y/2)**2 + 0.707106781186547*exp(-I*y)*sin(y/2)**2)*cos(x/2)**2 - 2*I*(-0.707106781186547*I*exp(I*y)*sin(y/2)*cos(y/2) - 0.707106781186547*exp(-I*y)*sin(y/2)*cos(y/2))*sin(x/2)*cos(x/2))]\n",
      " [-0.707106781186547*I*(0.707106781186547*I*sin(y/2)**2 + 0.707106781186547*cos(y/2)**2)*sin(x/2)*cos(x/2) - 0.707106781186547*(-0.707106781186547*sin(y/2)*cos(y/2) + 0.707106781186547*I*sin(y/2)*cos(y/2))*sin(x/2)**2 + 0.707106781186547*(0.707106781186547*sin(y/2)*cos(y/2) - 0.707106781186547*I*sin(y/2)*cos(y/2))*cos(x/2)**2 - 0.707106781186547*I*(-0.707106781186547*sin(y/2)**2 - 0.707106781186547*I*cos(y/2)**2)*sin(x/2)*cos(x/2) + 0.707106781186547*I*(-I*(0.707106781186547*I*sin(y/2)**2 + 0.707106781186547*cos(y/2)**2)*sin(x/2)*cos(x/2) + (-0.707106781186547*sin(y/2)*cos(y/2) + 0.707106781186547*I*sin(y/2)*cos(y/2))*cos(x/2)**2 - (0.707106781186547*sin(y/2)*cos(y/2) - 0.707106781186547*I*sin(y/2)*cos(y/2))*sin(x/2)**2 - I*(-0.707106781186547*sin(y/2)**2 - 0.707106781186547*I*cos(y/2)**2)*sin(x/2)*cos(x/2))]\n",
      " [-0.707106781186547*I*(0.707106781186547*I*sin(y/2)**2 + 0.707106781186547*cos(y/2)**2)*sin(x/2)*cos(x/2) - 0.707106781186547*(-0.707106781186547*sin(y/2)*cos(y/2) + 0.707106781186547*I*sin(y/2)*cos(y/2))*sin(x/2)**2 + 0.707106781186547*(0.707106781186547*sin(y/2)*cos(y/2) - 0.707106781186547*I*sin(y/2)*cos(y/2))*cos(x/2)**2 - 0.707106781186547*I*(-0.707106781186547*sin(y/2)**2 - 0.707106781186547*I*cos(y/2)**2)*sin(x/2)*cos(x/2) + 0.707106781186547*I*(-I*(0.707106781186547*I*sin(y/2)**2 + 0.707106781186547*cos(y/2)**2)*sin(x/2)*cos(x/2) + (-0.707106781186547*sin(y/2)*cos(y/2) + 0.707106781186547*I*sin(y/2)*cos(y/2))*cos(x/2)**2 - (0.707106781186547*sin(y/2)*cos(y/2) - 0.707106781186547*I*sin(y/2)*cos(y/2))*sin(x/2)**2 - I*(-0.707106781186547*sin(y/2)**2 - 0.707106781186547*I*cos(y/2)**2)*sin(x/2)*cos(x/2))]\n",
      " [0.707106781186547*(0.707106781186547*exp(I*y)*sin(y/2)**2 - 0.707106781186547*I*exp(-I*y)*cos(y/2)**2)*cos(x/2)**2 - 0.707106781186547*(0.707106781186547*exp(I*y)*cos(y/2)**2 - 0.707106781186547*I*exp(-I*y)*sin(y/2)**2)*sin(x/2)**2 - 1.41421356237309*I*(0.707106781186547*exp(I*y)*sin(y/2)*cos(y/2) + 0.707106781186547*I*exp(-I*y)*sin(y/2)*cos(y/2))*sin(x/2)*cos(x/2) + 0.707106781186547*I*(-(0.707106781186547*exp(I*y)*sin(y/2)**2 - 0.707106781186547*I*exp(-I*y)*cos(y/2)**2)*sin(x/2)**2 + (0.707106781186547*exp(I*y)*cos(y/2)**2 - 0.707106781186547*I*exp(-I*y)*sin(y/2)**2)*cos(x/2)**2 - 2*I*(0.707106781186547*exp(I*y)*sin(y/2)*cos(y/2) + 0.707106781186547*I*exp(-I*y)*sin(y/2)*cos(y/2))*sin(x/2)*cos(x/2))]]\n"
     ]
    }
   ],
   "source": [
    "state_00 = np.array([1, 0, 0, 0]).reshape(4,1)\n",
    "\n",
    "I = np.matrix([[1, 0],\n",
    "              [0, 1]])\n",
    "X = np.matrix([[0, 1],\n",
    "              [1, 0]])    \n",
    "I_f = np.kron(I, I)\n",
    "X_f = np.kron(X, X)\n",
    "J = 1 / np.sqrt(2) * (I_f + 1j * X_f)\n",
    "J_dg = J.H\n",
    "\n",
    "x = sym.Symbol('x')\n",
    "y = sym.Symbol('y')\n",
    "z = sym.Symbol('y')\n",
    "Rx = sym.Matrix([[sym.cos(x/2), -sym.I * sym.sin(x/2)], [-sym.I * sym.sin(x/2), sym.cos(x/2)]])\n",
    "Ry = sym.Matrix([[sym.cos(y/2), -sym.sin(y/2)], [sym.sin(y/2), sym.cos(y/2)]])\n",
    "Rz = sym.Matrix([[sym.exp(-sym.I * z/2), 0], [0, sym.exp(sym.I * z/2)]])\n",
    "G_Rx = np.kron(Rx, Rx)\n",
    "G_Ry = np.kron(Ry, Ry)\n",
    "G_Rz = np.kron(Rz, Rz)\n",
    "\n",
    "state_f = (J_dg * G_Rz * G_Ry * G_Rx * J * state_00)\n",
    "print(state_f)"
   ]
  },
  {
   "cell_type": "code",
   "execution_count": 20,
   "id": "63ea8346",
   "metadata": {},
   "outputs": [
    {
     "name": "stdout",
     "output_type": "stream",
     "text": [
      "[[-0.5+2.77555756e-17j]\n",
      " [ 0. -5.00000000e-01j]\n",
      " [ 0. -5.00000000e-01j]\n",
      " [ 0.5+0.00000000e+00j]]\n"
     ]
    }
   ],
   "source": [
    "def state_out(x,y,z):\n",
    "    s_0 = np.sqrt(2)/2*(-np.sqrt(2)/2*1j*np.exp(1j*y)*np.sin(y/2)**2 + np.sqrt(2)/2*np.exp(-1j*y)*np.cos(y/2)**2)*np.cos(x/2)**2 - np.sqrt(2)/2*(-np.sqrt(2)/2*1j*np.exp(1j*y)*np.cos(y/2)**2 + np.sqrt(2)/2*np.exp(-1j*y)*np.sin(y/2)**2)*np.sin(x/2)**2 - np.sqrt(2)*1j*(-np.sqrt(2)/2*1j*np.exp(1j*y)*np.sin(y/2)*np.cos(y/2) - np.sqrt(2)/2*np.exp(-1j*y)*np.sin(y/2)*np.cos(y/2))*np.sin(x/2)*np.cos(x/2) + np.sqrt(2)/2*1j*(-(-np.sqrt(2)/2*1j*np.exp(1j*y)*np.sin(y/2)**2 + np.sqrt(2)/2*np.exp(-1j*y)*np.cos(y/2)**2)*np.sin(x/2)**2 + (-np.sqrt(2)/2*1j*np.exp(1j*y)*np.cos(y/2)**2 + np.sqrt(2)/2*np.exp(-1j*y)*np.sin(y/2)**2)*np.cos(x/2)**2 - 2*1j*(-np.sqrt(2)/2*1j*np.exp(1j*y)*np.sin(y/2)*np.cos(y/2) - np.sqrt(2)/2*np.exp(-1j*y)*np.sin(y/2)*np.cos(y/2))*np.sin(x/2)*np.cos(x/2))\n",
    "    s_1 = -np.sqrt(2)/2*1j*(np.sqrt(2)/2*1j*np.sin(y/2)**2 + np.sqrt(2)/2*np.cos(y/2)**2)*np.sin(x/2)*np.cos(x/2) - np.sqrt(2)/2*(-np.sqrt(2)/2*np.sin(y/2)*np.cos(y/2) + np.sqrt(2)/2*1j*np.sin(y/2)*np.cos(y/2))*np.sin(x/2)**2 + np.sqrt(2)/2*(np.sqrt(2)/2*np.sin(y/2)*np.cos(y/2) - np.sqrt(2)/2*1j*np.sin(y/2)*np.cos(y/2))*np.cos(x/2)**2 - np.sqrt(2)/2*1j*(-np.sqrt(2)/2*np.sin(y/2)**2 - np.sqrt(2)/2*1j*np.cos(y/2)**2)*np.sin(x/2)*np.cos(x/2) + np.sqrt(2)/2*1j*(-1j*(np.sqrt(2)/2*1j*np.sin(y/2)**2 + np.sqrt(2)/2*np.cos(y/2)**2)*np.sin(x/2)*np.cos(x/2) + (-np.sqrt(2)/2*np.sin(y/2)*np.cos(y/2) + np.sqrt(2)/2*1j*np.sin(y/2)*np.cos(y/2))*np.cos(x/2)**2 - (np.sqrt(2)/2*np.sin(y/2)*np.cos(y/2) - np.sqrt(2)/2*1j*np.sin(y/2)*np.cos(y/2))*np.sin(x/2)**2 - 1j*(-np.sqrt(2)/2*np.sin(y/2)**2 - np.sqrt(2)/2*1j*np.cos(y/2)**2)*np.sin(x/2)*np.cos(x/2))\n",
    "    s_2 = -np.sqrt(2)/2*1j*(np.sqrt(2)/2*1j*np.sin(y/2)**2 + np.sqrt(2)/2*np.cos(y/2)**2)*np.sin(x/2)*np.cos(x/2) - np.sqrt(2)/2*(-np.sqrt(2)/2*np.sin(y/2)*np.cos(y/2) + np.sqrt(2)/2*1j*np.sin(y/2)*np.cos(y/2))*np.sin(x/2)**2 + np.sqrt(2)/2*(np.sqrt(2)/2*np.sin(y/2)*np.cos(y/2) - np.sqrt(2)/2*1j*np.sin(y/2)*np.cos(y/2))*np.cos(x/2)**2 - np.sqrt(2)/2*1j*(-np.sqrt(2)/2*np.sin(y/2)**2 - np.sqrt(2)/2*1j*np.cos(y/2)**2)*np.sin(x/2)*np.cos(x/2) + np.sqrt(2)/2*1j*(-1j*(np.sqrt(2)/2*1j*np.sin(y/2)**2 + np.sqrt(2)/2*np.cos(y/2)**2)*np.sin(x/2)*np.cos(x/2) + (-np.sqrt(2)/2*np.sin(y/2)*np.cos(y/2) + np.sqrt(2)/2*1j*np.sin(y/2)*np.cos(y/2))*np.cos(x/2)**2 - (np.sqrt(2)/2*np.sin(y/2)*np.cos(y/2) - np.sqrt(2)/2*1j*np.sin(y/2)*np.cos(y/2))*np.sin(x/2)**2 - 1j*(-np.sqrt(2)/2*np.sin(y/2)**2 - np.sqrt(2)/2*1j*np.cos(y/2)**2)*np.sin(x/2)*np.cos(x/2))\n",
    "    s_3 = np.sqrt(2)/2*(np.sqrt(2)/2*np.exp(1j*y)*np.sin(y/2)**2 - np.sqrt(2)/2*1j*np.exp(-1j*y)*np.cos(y/2)**2)*np.cos(x/2)**2 - np.sqrt(2)/2*(np.sqrt(2)/2*np.exp(1j*y)*np.cos(y/2)**2 - np.sqrt(2)/2*1j*np.exp(-1j*y)*np.sin(y/2)**2)*np.sin(x/2)**2 - np.sqrt(2)*1j*(np.sqrt(2)/2*np.exp(1j*y)*np.sin(y/2)*np.cos(y/2) + np.sqrt(2)/2*1j*np.exp(-1j*y)*np.sin(y/2)*np.cos(y/2))*np.sin(x/2)*np.cos(x/2) + np.sqrt(2)/2*1j*(-(np.sqrt(2)/2*np.exp(1j*y)*np.sin(y/2)**2 - np.sqrt(2)/2*1j*np.exp(-1j*y)*np.cos(y/2)**2)*np.sin(x/2)**2 + (np.sqrt(2)/2*np.exp(1j*y)*np.cos(y/2)**2 - np.sqrt(2)/2*1j*np.exp(-1j*y)*np.sin(y/2)**2)*np.cos(x/2)**2 - 2*1j*(np.sqrt(2)/2*np.exp(1j*y)*np.sin(y/2)*np.cos(y/2) + np.sqrt(2)/2*1j*np.exp(-1j*y)*np.sin(y/2)*np.cos(y/2))*np.sin(x/2)*np.cos(x/2))\n",
    "    return np.array([s_0, s_1, s_2, s_3]).reshape(4,1)\n",
    "\n",
    "state = state_out(np.pi,np.pi/2,np.pi/4)\n",
    "print(state)"
   ]
  },
  {
   "cell_type": "code",
   "execution_count": null,
   "id": "d40e956d",
   "metadata": {},
   "outputs": [],
   "source": []
  }
 ],
 "metadata": {
  "kernelspec": {
   "display_name": "Python 3",
   "language": "python",
   "name": "python3"
  },
  "language_info": {
   "codemirror_mode": {
    "name": "ipython",
    "version": 3
   },
   "file_extension": ".py",
   "mimetype": "text/x-python",
   "name": "python",
   "nbconvert_exporter": "python",
   "pygments_lexer": "ipython3",
   "version": "3.8.10"
  }
 },
 "nbformat": 4,
 "nbformat_minor": 5
}
