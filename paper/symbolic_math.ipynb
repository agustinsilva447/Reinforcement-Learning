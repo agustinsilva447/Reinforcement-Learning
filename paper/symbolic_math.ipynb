{
 "cells": [
  {
   "cell_type": "code",
   "execution_count": 1,
   "id": "a524f57b",
   "metadata": {},
   "outputs": [],
   "source": [
    "import sympy as sym\n",
    "import numpy as np\n",
    "import time\n",
    "\n",
    "from qiskit import QuantumCircuit, Aer, execute\n",
    "from qiskit.quantum_info import Operator\n",
    "from qiskit.extensions import RXGate, RYGate, RZGate  "
   ]
  },
  {
   "cell_type": "code",
   "execution_count": 2,
   "id": "d40e956d",
   "metadata": {},
   "outputs": [],
   "source": [
    "def state_out_real(dx,dy,dz):     \n",
    "    I_f = np.array([[1, 0],\n",
    "                  [0, 1]]) \n",
    "    I = np.array([[1, 0],\n",
    "                  [0, 1]])\n",
    "    X_f = np.array([[0, 1],\n",
    "                  [1, 0]]) \n",
    "    X = np.array([[0, 1],\n",
    "                  [1, 0]])   \n",
    "\n",
    "    for q in range(1):\n",
    "        I_f = np.kron(I_f, I)\n",
    "        X_f = np.kron(X_f, X)\n",
    "    J = Operator(1 / np.sqrt(2) * (I_f + 1j * X_f))    \n",
    "    J_dg = J.adjoint()\n",
    "    circ = QuantumCircuit(2,2)\n",
    "    circ.append(J, range(2))\n",
    "\n",
    "    for q in range(2):\n",
    "        circ.append(RXGate(dx),[q])\n",
    "        circ.append(RYGate(dy),[q])\n",
    "        circ.append(RZGate(dz),[q])    \n",
    "\n",
    "    circ.append(J_dg, range(2))\n",
    "\n",
    "    backend = Aer.get_backend('statevector_simulator')\n",
    "    job = backend.run(circ)\n",
    "    result = job.result()\n",
    "    outputstate = result.get_statevector(circ, decimals=5)\n",
    "\n",
    "    return np.round(np.array(outputstate).reshape(4,1),5)"
   ]
  },
  {
   "cell_type": "code",
   "execution_count": 17,
   "id": "8111fb9b",
   "metadata": {},
   "outputs": [],
   "source": [
    "\"\"\"state_00 = np.array([1, 0, 0, 0]).reshape(4,1)\n",
    "\n",
    "I = np.matrix([[1, 0],\n",
    "              [0, 1]])\n",
    "X = np.matrix([[0, 1],\n",
    "              [1, 0]])    \n",
    "I_f = np.kron(I, I)\n",
    "X_f = np.kron(X, X)\n",
    "J = 1 / np.sqrt(2) * (I_f + 1j * X_f)\n",
    "J_dg = J.H\n",
    "\n",
    "x = sym.Symbol('x')\n",
    "y = sym.Symbol('y')\n",
    "z = sym.Symbol('z')\n",
    "Rx = sym.Matrix([[sym.cos(x/2), -sym.I * sym.sin(x/2)], [-sym.I * sym.sin(x/2), sym.cos(x/2)]])\n",
    "Ry = sym.Matrix([[sym.cos(y/2), -sym.sin(y/2)], [sym.sin(y/2), sym.cos(y/2)]])\n",
    "Rz = sym.Matrix([[sym.exp(-sym.I * z/2), 0], [0, sym.exp(sym.I * z/2)]])\n",
    "G_Rx = np.kron(Rx, Rx)\n",
    "G_Ry = np.kron(Ry, Ry)\n",
    "G_Rz = np.kron(Rz, Rz)\n",
    "\n",
    "state_f = (J_dg * G_Rz * G_Ry * G_Rx * J * state_00)\n",
    "#print(state_f)\"\"\"\n",
    "\n",
    "def state_out_new(x,y,z):\n",
    "\n",
    "    sqrt_2 = np.sqrt(2)\n",
    "    cos_x = np.cos(x/2)\n",
    "    sin_x = np.sin(x/2)\n",
    "    cos_y = np.cos(y/2)\n",
    "    sin_y = np.sin(y/2)\n",
    "    exp_z = np.exp(1j*z)\n",
    "    exp_m = np.exp(-1j*z)\n",
    "\n",
    "    s_0 = sqrt_2/2*(-sqrt_2/2*1j*exp_z*sin_y**2 + sqrt_2/2*exp_m*cos_y**2)*cos_x**2 - sqrt_2/2*(-sqrt_2/2*1j*exp_z*cos_y**2 + sqrt_2/2*exp_m*sin_y**2)*sin_x**2 - sqrt_2*1j*(-sqrt_2/2*1j*exp_z*sin_y*cos_y - sqrt_2/2*exp_m*sin_y*cos_y)*sin_x*cos_x + sqrt_2/2*1j*(-(-sqrt_2/2*1j*exp_z*sin_y**2 + sqrt_2/2*exp_m*cos_y**2)*sin_x**2 + (-sqrt_2/2*1j*exp_z*cos_y**2 + sqrt_2/2*exp_m*sin_y**2)*cos_x**2 - 2*1j*(-sqrt_2/2*1j*exp_z*sin_y*cos_y - sqrt_2/2*exp_m*sin_y*cos_y)*sin_x*cos_x)\n",
    "    s_1 = -sqrt_2/2*1j*(sqrt_2/2*1j*sin_y**2 + sqrt_2/2*cos_y**2)*sin_x*cos_x - sqrt_2/2*(-sqrt_2/2*sin_y*cos_y + sqrt_2/2*1j*sin_y*cos_y)*sin_x**2 + sqrt_2/2*(sqrt_2/2*sin_y*cos_y - sqrt_2/2*1j*sin_y*cos_y)*cos_x**2 - sqrt_2/2*1j*(-sqrt_2/2*sin_y**2 - sqrt_2/2*1j*cos_y**2)*sin_x*cos_x + sqrt_2/2*1j*(-1j*(sqrt_2/2*1j*sin_y**2 + sqrt_2/2*cos_y**2)*sin_x*cos_x + (-sqrt_2/2*sin_y*cos_y + sqrt_2/2*1j*sin_y*cos_y)*cos_x**2 - (sqrt_2/2*sin_y*cos_y - sqrt_2/2*1j*sin_y*cos_y)*sin_x**2 - 1j*(-sqrt_2/2*sin_y**2 - sqrt_2/2*1j*cos_y**2)*sin_x*cos_x)\n",
    "    s_2 = -sqrt_2/2*1j*(sqrt_2/2*1j*sin_y**2 + sqrt_2/2*cos_y**2)*sin_x*cos_x - sqrt_2/2*(-sqrt_2/2*sin_y*cos_y + sqrt_2/2*1j*sin_y*cos_y)*sin_x**2 + sqrt_2/2*(sqrt_2/2*sin_y*cos_y - sqrt_2/2*1j*sin_y*cos_y)*cos_x**2 - sqrt_2/2*1j*(-sqrt_2/2*sin_y**2 - sqrt_2/2*1j*cos_y**2)*sin_x*cos_x + sqrt_2/2*1j*(-1j*(sqrt_2/2*1j*sin_y**2 + sqrt_2/2*cos_y**2)*sin_x*cos_x + (-sqrt_2/2*sin_y*cos_y + sqrt_2/2*1j*sin_y*cos_y)*cos_x**2 - (sqrt_2/2*sin_y*cos_y - sqrt_2/2*1j*sin_y*cos_y)*sin_x**2 - 1j*(-sqrt_2/2*sin_y**2 - sqrt_2/2*1j*cos_y**2)*sin_x*cos_x)\n",
    "    s_3 = sqrt_2/2*(sqrt_2/2*exp_z*sin_y**2 - sqrt_2/2*1j*exp_m*cos_y**2)*cos_x**2 - sqrt_2/2*(sqrt_2/2*exp_z*cos_y**2 - sqrt_2/2*1j*exp_m*sin_y**2)*sin_x**2 - sqrt_2*1j*(sqrt_2/2*exp_z*sin_y*cos_y + sqrt_2/2*1j*exp_m*sin_y*cos_y)*sin_x*cos_x + sqrt_2/2*1j*(-(sqrt_2/2*exp_z*sin_y**2 - sqrt_2/2*1j*exp_m*cos_y**2)*sin_x**2 + (sqrt_2/2*exp_z*cos_y**2 - sqrt_2/2*1j*exp_m*sin_y**2)*cos_x**2 - 2*1j*(sqrt_2/2*exp_z*sin_y*cos_y + sqrt_2/2*1j*exp_m*sin_y*cos_y)*sin_x*cos_x)\n",
    "    p_new = np.round(np.array([s_0, s_1, s_2, s_3]).reshape(1,4),5)\n",
    "    p_new = np.abs(p_new)**2\n",
    "    \n",
    "    return (p_new)/(np.sum(p_new))"
   ]
  },
  {
   "cell_type": "code",
   "execution_count": 19,
   "id": "3504ccee",
   "metadata": {},
   "outputs": [
    {
     "name": "stdout",
     "output_type": "stream",
     "text": [
      "0.9999999999999999\n"
     ]
    }
   ],
   "source": [
    "state_new = state_out_new(0.7853981633974483, 3.141592653589793, 0)[0]\n",
    "print(np.sum(state_new))"
   ]
  },
  {
   "cell_type": "code",
   "execution_count": 4,
   "id": "7981a1e9",
   "metadata": {},
   "outputs": [],
   "source": [
    "def state_out_new_2(x,y,z):\n",
    "\n",
    "    s_0 = np.sqrt(2)/2*(-np.sqrt(2)/2*1j*np.exp(1j*z)*np.sin(y/2)**2 + np.sqrt(2)/2*np.exp(-1j*z)*np.cos(y/2)**2)*np.cos(x/2)**2 - np.sqrt(2)/2*(-np.sqrt(2)/2*1j*np.exp(1j*z)*np.cos(y/2)**2 + np.sqrt(2)/2*np.exp(-1j*z)*np.sin(y/2)**2)*np.sin(x/2)**2 - np.sqrt(2)*1j*(-np.sqrt(2)/2*1j*np.exp(1j*z)*np.sin(y/2)*np.cos(y/2) - np.sqrt(2)/2*np.exp(-1j*z)*np.sin(y/2)*np.cos(y/2))*np.sin(x/2)*np.cos(x/2) + np.sqrt(2)/2*1j*(-(-np.sqrt(2)/2*1j*np.exp(1j*z)*np.sin(y/2)**2 + np.sqrt(2)/2*np.exp(-1j*z)*np.cos(y/2)**2)*np.sin(x/2)**2 + (-np.sqrt(2)/2*1j*np.exp(1j*z)*np.cos(y/2)**2 + np.sqrt(2)/2*np.exp(-1j*z)*np.sin(y/2)**2)*np.cos(x/2)**2 - 2*1j*(-np.sqrt(2)/2*1j*np.exp(1j*z)*np.sin(y/2)*np.cos(y/2) - np.sqrt(2)/2*np.exp(-1j*z)*np.sin(y/2)*np.cos(y/2))*np.sin(x/2)*np.cos(x/2))\n",
    "    s_1 = -np.sqrt(2)/2*1j*(np.sqrt(2)/2*1j*np.sin(y/2)**2 + np.sqrt(2)/2*np.cos(y/2)**2)*np.sin(x/2)*np.cos(x/2) - np.sqrt(2)/2*(-np.sqrt(2)/2*np.sin(y/2)*np.cos(y/2) + np.sqrt(2)/2*1j*np.sin(y/2)*np.cos(y/2))*np.sin(x/2)**2 + np.sqrt(2)/2*(np.sqrt(2)/2*np.sin(y/2)*np.cos(y/2) - np.sqrt(2)/2*1j*np.sin(y/2)*np.cos(y/2))*np.cos(x/2)**2 - np.sqrt(2)/2*1j*(-np.sqrt(2)/2*np.sin(y/2)**2 - np.sqrt(2)/2*1j*np.cos(y/2)**2)*np.sin(x/2)*np.cos(x/2) + np.sqrt(2)/2*1j*(-1j*(np.sqrt(2)/2*1j*np.sin(y/2)**2 + np.sqrt(2)/2*np.cos(y/2)**2)*np.sin(x/2)*np.cos(x/2) + (-np.sqrt(2)/2*np.sin(y/2)*np.cos(y/2) + np.sqrt(2)/2*1j*np.sin(y/2)*np.cos(y/2))*np.cos(x/2)**2 - (np.sqrt(2)/2*np.sin(y/2)*np.cos(y/2) - np.sqrt(2)/2*1j*np.sin(y/2)*np.cos(y/2))*np.sin(x/2)**2 - 1j*(-np.sqrt(2)/2*np.sin(y/2)**2 - np.sqrt(2)/2*1j*np.cos(y/2)**2)*np.sin(x/2)*np.cos(x/2))\n",
    "    s_2 = -np.sqrt(2)/2*1j*(np.sqrt(2)/2*1j*np.sin(y/2)**2 + np.sqrt(2)/2*np.cos(y/2)**2)*np.sin(x/2)*np.cos(x/2) - np.sqrt(2)/2*(-np.sqrt(2)/2*np.sin(y/2)*np.cos(y/2) + np.sqrt(2)/2*1j*np.sin(y/2)*np.cos(y/2))*np.sin(x/2)**2 + np.sqrt(2)/2*(np.sqrt(2)/2*np.sin(y/2)*np.cos(y/2) - np.sqrt(2)/2*1j*np.sin(y/2)*np.cos(y/2))*np.cos(x/2)**2 - np.sqrt(2)/2*1j*(-np.sqrt(2)/2*np.sin(y/2)**2 - np.sqrt(2)/2*1j*np.cos(y/2)**2)*np.sin(x/2)*np.cos(x/2) + np.sqrt(2)/2*1j*(-1j*(np.sqrt(2)/2*1j*np.sin(y/2)**2 + np.sqrt(2)/2*np.cos(y/2)**2)*np.sin(x/2)*np.cos(x/2) + (-np.sqrt(2)/2*np.sin(y/2)*np.cos(y/2) + np.sqrt(2)/2*1j*np.sin(y/2)*np.cos(y/2))*np.cos(x/2)**2 - (np.sqrt(2)/2*np.sin(y/2)*np.cos(y/2) - np.sqrt(2)/2*1j*np.sin(y/2)*np.cos(y/2))*np.sin(x/2)**2 - 1j*(-np.sqrt(2)/2*np.sin(y/2)**2 - np.sqrt(2)/2*1j*np.cos(y/2)**2)*np.sin(x/2)*np.cos(x/2))\n",
    "    s_3 = np.sqrt(2)/2*(np.sqrt(2)/2*np.exp(1j*z)*np.sin(y/2)**2 - np.sqrt(2)/2*1j*np.exp(-1j*z)*np.cos(y/2)**2)*np.cos(x/2)**2 - np.sqrt(2)/2*(np.sqrt(2)/2*np.exp(1j*z)*np.cos(y/2)**2 - np.sqrt(2)/2*1j*np.exp(-1j*z)*np.sin(y/2)**2)*np.sin(x/2)**2 - np.sqrt(2)*1j*(np.sqrt(2)/2*np.exp(1j*z)*np.sin(y/2)*np.cos(y/2) + np.sqrt(2)/2*1j*np.exp(-1j*z)*np.sin(y/2)*np.cos(y/2))*np.sin(x/2)*np.cos(x/2) + np.sqrt(2)/2*1j*(-(np.sqrt(2)/2*np.exp(1j*z)*np.sin(y/2)**2 - np.sqrt(2)/2*1j*np.exp(-1j*z)*np.cos(y/2)**2)*np.sin(x/2)**2 + (np.sqrt(2)/2*np.exp(1j*z)*np.cos(y/2)**2 - np.sqrt(2)/2*1j*np.exp(-1j*z)*np.sin(y/2)**2)*np.cos(x/2)**2 - 2*1j*(np.sqrt(2)/2*np.exp(1j*z)*np.sin(y/2)*np.cos(y/2) + np.sqrt(2)/2*1j*np.exp(-1j*z)*np.sin(y/2)*np.cos(y/2))*np.sin(x/2)*np.cos(x/2))\n",
    "    p_new = np.round(np.array([s_0, s_1, s_2, s_3]).reshape(4,1),5)\n",
    "    \n",
    "    return p_new"
   ]
  },
  {
   "cell_type": "code",
   "execution_count": 6,
   "id": "f9c98c37",
   "metadata": {},
   "outputs": [
    {
     "name": "stdout",
     "output_type": "stream",
     "text": [
      "Accuracy = 1.0\n"
     ]
    }
   ],
   "source": [
    "angulos = np.arange(0, 2 * np.pi, 2 * np.pi / 8)\n",
    "counter = 0\n",
    "\n",
    "for rx in angulos:\n",
    "    for ry in angulos:\n",
    "        for rz in angulos:\n",
    "            state_real = state_out_real(rx,ry,rz)\n",
    "            state_new = state_out_new_2(rx,ry,rz)\n",
    "            if (state_real == state_new).all:\n",
    "                counter += 1\n",
    "                \n",
    "print(\"Accuracy = {}\".format(counter/np.power(len(angulos),3)))                "
   ]
  },
  {
   "cell_type": "code",
   "execution_count": 7,
   "id": "4e1b2a37",
   "metadata": {},
   "outputs": [
    {
     "name": "stdout",
     "output_type": "stream",
     "text": [
      "Tiempo de procesamiento en Qiskit = 1.3950862884521484\n",
      "Tiempo de procesamiento nuevo = 0.2347698211669922\n",
      "Tiempo de procesamiento nuevo = 0.46165037155151367\n"
     ]
    }
   ],
   "source": [
    "angulos = np.arange(0, 2 * np.pi, 2 * np.pi / 8)\n",
    "\n",
    "t_0_real = time.time()\n",
    "for rx in angulos:\n",
    "    for ry in angulos:\n",
    "        for rz in angulos:\n",
    "            state_real = state_out_real(rx,ry,rz)\n",
    "t_f_real = time.time() - t_0_real\n",
    "print(\"Tiempo de procesamiento en Qiskit = {}\".format(t_f_real))       \n",
    "\n",
    "t_0_new = time.time()\n",
    "for rx in angulos:\n",
    "    for ry in angulos:\n",
    "        for rz in angulos:\n",
    "            state_new = state_out_new(rx,ry,rz)\n",
    "t_f_new = time.time() - t_0_new\n",
    "print(\"Tiempo de procesamiento nuevo = {}\".format(t_f_new))      \n",
    "\n",
    "t_0_new2 = time.time()\n",
    "for rx in angulos:\n",
    "    for ry in angulos:\n",
    "        for rz in angulos:\n",
    "            state_new = state_out_new_2(rx,ry,rz)\n",
    "t_f_new2 = time.time() - t_0_new2\n",
    "print(\"Tiempo de procesamiento nuevo = {}\".format(t_f_new2))        "
   ]
  },
  {
   "cell_type": "code",
   "execution_count": null,
   "id": "fe8f8130",
   "metadata": {},
   "outputs": [],
   "source": []
  }
 ],
 "metadata": {
  "kernelspec": {
   "display_name": "Python 3",
   "language": "python",
   "name": "python3"
  },
  "language_info": {
   "codemirror_mode": {
    "name": "ipython",
    "version": 3
   },
   "file_extension": ".py",
   "mimetype": "text/x-python",
   "name": "python",
   "nbconvert_exporter": "python",
   "pygments_lexer": "ipython3",
   "version": "3.8.10"
  }
 },
 "nbformat": 4,
 "nbformat_minor": 5
}
