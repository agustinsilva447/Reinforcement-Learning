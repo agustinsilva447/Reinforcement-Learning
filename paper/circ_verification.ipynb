{
 "cells": [
  {
   "cell_type": "code",
   "execution_count": 1,
   "id": "e39dfa5e",
   "metadata": {},
   "outputs": [],
   "source": [
    "import numpy as np\n",
    "import networkx as nx\n",
    "import matplotlib.pyplot as plt\n",
    "import copy\n",
    "\n",
    "from qiskit import QuantumCircuit, Aer, execute\n",
    "from qiskit.quantum_info import Operator\n",
    "from qiskit.extensions import RXGate, RYGate, RZGate       "
   ]
  },
  {
   "cell_type": "code",
   "execution_count": 9,
   "id": "05921473",
   "metadata": {},
   "outputs": [
    {
     "name": "stdout",
     "output_type": "stream",
     "text": [
      "[-0.+0.j     0.-0.707j  0.-0.707j -0.+0.j   ]\n"
     ]
    }
   ],
   "source": [
    "I_f = np.array([[1, 0],\n",
    "              [0, 1]]) \n",
    "I = np.array([[1, 0],\n",
    "              [0, 1]])\n",
    "X_f = np.array([[0, 1],\n",
    "              [1, 0]]) \n",
    "X = np.array([[0, 1],\n",
    "              [1, 0]])    \n",
    "for q in range(1):\n",
    "    I_f = np.kron(I_f, I)\n",
    "    X_f = np.kron(X_f, X)\n",
    "J = Operator(1 / np.sqrt(2) * (I_f + 1j * X_f))    \n",
    "J_dg = J.adjoint()\n",
    "circ = QuantumCircuit(2,2)\n",
    "circ.append(J, range(2))\n",
    "\n",
    "dx = np.pi/2\n",
    "dy = np.pi/4\n",
    "dz = 5*np.pi/4\n",
    "\n",
    "for q in range(2):\n",
    "    circ.append(RXGate(dx),[q])\n",
    "    circ.append(RYGate(dy),[q])\n",
    "    circ.append(RZGate(dz),[q])    \n",
    "\n",
    "circ.append(J_dg, range(2))\n",
    "\n",
    "#circ.measure(range(2), range(2))  \n",
    "#backend = Aer.get_backend('qasm_simulator')\n",
    "#measurement = execute(circ, backend=backend, shots=1000).result().get_counts(circ)\n",
    "#print(measurement)\n",
    "\n",
    "backend = Aer.get_backend('statevector_simulator')\n",
    "job = backend.run(circ)\n",
    "result = job.result()\n",
    "outputstate = result.get_statevector(circ, decimals=3)\n",
    "print(outputstate)"
   ]
  },
  {
   "cell_type": "code",
   "execution_count": 10,
   "id": "29c7ed60",
   "metadata": {},
   "outputs": [
    {
     "name": "stdout",
     "output_type": "stream",
     "text": [
      "     ┌──────────┐┌─────────┐┌─────────┐┌──────────┐┌──────────┐\n",
      "q_0: ┤0         ├┤ RX(π/2) ├┤ RY(π/4) ├┤ RZ(5π/4) ├┤0         ├\n",
      "     │  unitary │├─────────┤├─────────┤├──────────┤│  unitary │\n",
      "q_1: ┤1         ├┤ RX(π/2) ├┤ RY(π/4) ├┤ RZ(5π/4) ├┤1         ├\n",
      "     └──────────┘└─────────┘└─────────┘└──────────┘└──────────┘\n",
      "c: 2/══════════════════════════════════════════════════════════\n",
      "                                                               \n"
     ]
    }
   ],
   "source": [
    "print(circ)"
   ]
  },
  {
   "cell_type": "code",
   "execution_count": null,
   "id": "532033ab",
   "metadata": {},
   "outputs": [],
   "source": []
  }
 ],
 "metadata": {
  "kernelspec": {
   "display_name": "Python 3",
   "language": "python",
   "name": "python3"
  },
  "language_info": {
   "codemirror_mode": {
    "name": "ipython",
    "version": 3
   },
   "file_extension": ".py",
   "mimetype": "text/x-python",
   "name": "python",
   "nbconvert_exporter": "python",
   "pygments_lexer": "ipython3",
   "version": "3.8.10"
  }
 },
 "nbformat": 4,
 "nbformat_minor": 5
}
