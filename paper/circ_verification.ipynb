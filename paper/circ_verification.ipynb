{
 "cells": [
  {
   "cell_type": "code",
   "execution_count": 1,
   "id": "e39dfa5e",
   "metadata": {},
   "outputs": [],
   "source": [
    "import numpy as np\n",
    "from qiskit import QuantumCircuit, Aer, execute\n",
    "from qiskit.quantum_info import Operator\n",
    "from qiskit.extensions import RXGate, RYGate, RZGate       "
   ]
  },
  {
   "cell_type": "code",
   "execution_count": 2,
   "id": "05921473",
   "metadata": {},
   "outputs": [
    {
     "name": "stdout",
     "output_type": "stream",
     "text": [
      "[ 0.+0.j       0.+0.70711j  0.+0.70711j -0.+0.j     ]\n"
     ]
    }
   ],
   "source": [
    "d = [4.71238898038469, 5.497787143782138, 3.5342917352885173]\n",
    "\n",
    "dx = d[0]\n",
    "dy = d[1]\n",
    "dz = d[2]\n",
    "\n",
    "I_f = np.array([[1, 0],\n",
    "            [0, 1]]) \n",
    "I = np.array([[1, 0],\n",
    "            [0, 1]])\n",
    "X_f = np.array([[0, 1],\n",
    "            [1, 0]]) \n",
    "X = np.array([[0, 1],\n",
    "            [1, 0]])    \n",
    "for q in range(1):\n",
    "    I_f = np.kron(I_f, I)\n",
    "    X_f = np.kron(X_f, X)\n",
    "J = Operator(1 / np.sqrt(2) * (I_f + 1j * X_f))    \n",
    "J_dg = J.adjoint()\n",
    "circ = QuantumCircuit(2,2)\n",
    "circ.append(J, range(2))\n",
    "\n",
    "for q in range(2):\n",
    "    circ.append(RXGate(dx),[q])\n",
    "    circ.append(RYGate(dy),[q])\n",
    "    circ.append(RZGate(dz),[q])    \n",
    "\n",
    "circ.append(J_dg, range(2))\n",
    "backend = Aer.get_backend('statevector_simulator')\n",
    "job = backend.run(circ)\n",
    "result = job.result()\n",
    "outputstate = result.get_statevector(circ, decimals=5)\n",
    "print(outputstate)"
   ]
  },
  {
   "cell_type": "code",
   "execution_count": null,
   "id": "532033ab",
   "metadata": {},
   "outputs": [],
   "source": []
  }
 ],
 "metadata": {
  "kernelspec": {
   "display_name": "Python 3",
   "language": "python",
   "name": "python3"
  },
  "language_info": {
   "codemirror_mode": {
    "name": "ipython",
    "version": 3
   },
   "file_extension": ".py",
   "mimetype": "text/x-python",
   "name": "python",
   "nbconvert_exporter": "python",
   "pygments_lexer": "ipython3",
   "version": "3.8.10"
  }
 },
 "nbformat": 4,
 "nbformat_minor": 5
}
