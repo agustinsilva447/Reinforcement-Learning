{
 "cells": [
  {
   "cell_type": "code",
   "execution_count": 1,
   "id": "e39dfa5e",
   "metadata": {},
   "outputs": [],
   "source": [
    "import numpy as np\n",
    "from qiskit import QuantumCircuit, Aer, execute\n",
    "from qiskit.quantum_info import Operator\n",
    "from qiskit.extensions import RXGate, RYGate, RZGate       "
   ]
  },
  {
   "cell_type": "code",
   "execution_count": 28,
   "id": "05921473",
   "metadata": {},
   "outputs": [
    {
     "name": "stdout",
     "output_type": "stream",
     "text": [
      "\n",
      "Best action: [Rx, Ry, Rz] = [1.5*π, 1.75*π, 0.05*π]\n",
      "     ┌──────────┐┌────────────┐┌────────────┐┌─────────────┐┌──────────┐\n",
      "q_0: ┤0         ├┤ RX(4.7124) ├┤ RY(5.4977) ├┤ RZ(0.14167) ├┤0         ├\n",
      "     │  unitary │├────────────┤├────────────┤├─────────────┤│  unitary │\n",
      "q_1: ┤1         ├┤ RX(4.7124) ├┤ RY(5.4977) ├┤ RZ(0.14167) ├┤1         ├\n",
      "     └──────────┘└────────────┘└────────────┘└─────────────┘└──────────┘\n",
      "c: 2/═══════════════════════════════════════════════════════════════════\n",
      "                                                                        \n",
      "[-0.+0.j     0.+0.707j  0.+0.707j  0.+0.j   ]\n"
     ]
    }
   ],
   "source": [
    "d = [4.712408542633057, 5.497740745544434, 0.14167454838752747]\n",
    "dx = d[0]\n",
    "dy = d[1]\n",
    "dz = d[2]\n",
    "\n",
    "I = np.array([[1, 0],\n",
    "            [0, 1]])\n",
    "X = np.array([[0, 1],\n",
    "            [1, 0]])    \n",
    "I_f = np.kron(I, I)\n",
    "X_f = np.kron(X, X)\n",
    "J = Operator((1 / np.sqrt(2)) * (I_f + 1j * X_f))    \n",
    "J_dg = (J.conjugate()).transpose()\n",
    "\n",
    "circ = QuantumCircuit(2,2)\n",
    "circ.append(J, range(2))\n",
    "for q in range(2):\n",
    "    circ.append(RXGate(dx),[q])\n",
    "    circ.append(RYGate(dy),[q])\n",
    "    circ.append(RZGate(dz),[q])    \n",
    "circ.append(J_dg, range(2))\n",
    "\n",
    "backend = Aer.get_backend('statevector_simulator')\n",
    "job = backend.run(circ)\n",
    "result = job.result()\n",
    "outputstate = result.get_statevector(circ, decimals=5)\n",
    "\n",
    "params = np.array(d)\n",
    "params = np.round((params)/(np.pi),2)\n",
    "print(\"\\nBest action: [Rx, Ry, Rz] = [{}*π, {}*π, {}*π]\".format(params[0], params[1], params[2])) \n",
    "print(circ)\n",
    "print(np.round(outputstate,3))"
   ]
  },
  {
   "cell_type": "code",
   "execution_count": null,
   "id": "5e48fc40",
   "metadata": {},
   "outputs": [],
   "source": []
  }
 ],
 "metadata": {
  "kernelspec": {
   "display_name": "Python 3",
   "language": "python",
   "name": "python3"
  },
  "language_info": {
   "codemirror_mode": {
    "name": "ipython",
    "version": 3
   },
   "file_extension": ".py",
   "mimetype": "text/x-python",
   "name": "python",
   "nbconvert_exporter": "python",
   "pygments_lexer": "ipython3",
   "version": "3.8.10"
  }
 },
 "nbformat": 4,
 "nbformat_minor": 5
}
